{
 "cells": [
  {
   "cell_type": "markdown",
   "metadata": {},
   "source": [
    "# Library import"
   ]
  },
  {
   "cell_type": "code",
   "execution_count": 34,
   "metadata": {
    "ExecuteTime": {
     "end_time": "2021-03-22T03:13:34.481928Z",
     "start_time": "2021-03-22T03:13:34.466290Z"
    }
   },
   "outputs": [],
   "source": [
    "#For csv importing, dataframe handling and transformation:\n",
    "import pandas as pd\n",
    "import numpy as np\n",
    "\n",
    "#For visualizations:\n",
    "import seaborn as sns\n",
    "from string import ascii_letters\n",
    "import matplotlib.pyplot as plt\n",
    "\n",
    "#For cross validation:\n",
    "from sklearn.model_selection import train_test_split\n",
    "from sklearn.metrics import roc_auc_score\n",
    "from sklearn.model_selection import KFold\n",
    "\n",
    "#For logistic regression model:\n",
    "from sklearn.linear_model import LogisticRegression\n",
    "\n",
    "#For transforming categorical into numerical data:\n",
    "from sklearn.preprocessing import OneHotEncoder, OrdinalEncoder"
   ]
  },
  {
   "cell_type": "code",
   "execution_count": 2,
   "metadata": {
    "ExecuteTime": {
     "end_time": "2021-03-22T01:22:51.737359Z",
     "start_time": "2021-03-22T01:22:51.721754Z"
    }
   },
   "outputs": [
    {
     "name": "stdout",
     "output_type": "stream",
     "text": [
      "Pandas version: 1.2.0\n",
      "Numpy version: 1.19.5\n",
      "Seaborn version: 0.11.1\n"
     ]
    }
   ],
   "source": [
    "print(f'Pandas version: {pd.__version__}')\n",
    "print(f'Numpy version: {np.__version__}')\n",
    "print(f'Seaborn version: {sns.__version__}')"
   ]
  },
  {
   "cell_type": "code",
   "execution_count": 3,
   "metadata": {
    "ExecuteTime": {
     "end_time": "2021-03-22T01:22:53.711405Z",
     "start_time": "2021-03-22T01:22:51.737359Z"
    }
   },
   "outputs": [],
   "source": [
    "ambev = pd.read_json('dataset.json')"
   ]
  },
  {
   "cell_type": "code",
   "execution_count": 4,
   "metadata": {
    "ExecuteTime": {
     "end_time": "2021-03-22T01:22:53.752809Z",
     "start_time": "2021-03-22T01:22:53.711405Z"
    }
   },
   "outputs": [
    {
     "data": {
      "text/html": [
       "<div>\n",
       "<style scoped>\n",
       "    .dataframe tbody tr th:only-of-type {\n",
       "        vertical-align: middle;\n",
       "    }\n",
       "\n",
       "    .dataframe tbody tr th {\n",
       "        vertical-align: top;\n",
       "    }\n",
       "\n",
       "    .dataframe thead th {\n",
       "        text-align: right;\n",
       "    }\n",
       "</style>\n",
       "<table border=\"1\" class=\"dataframe\">\n",
       "  <thead>\n",
       "    <tr style=\"text-align: right;\">\n",
       "      <th></th>\n",
       "      <th>customer_code</th>\n",
       "      <th>branch_id</th>\n",
       "      <th>sales_channel</th>\n",
       "      <th>seller_code</th>\n",
       "      <th>register_date</th>\n",
       "      <th>total_price</th>\n",
       "      <th>order_id</th>\n",
       "      <th>quantity</th>\n",
       "      <th>item_code</th>\n",
       "      <th>item_total_price</th>\n",
       "      <th>unit_price</th>\n",
       "      <th>group_code</th>\n",
       "      <th>segment_code</th>\n",
       "      <th>is_churn</th>\n",
       "    </tr>\n",
       "  </thead>\n",
       "  <tbody>\n",
       "    <tr>\n",
       "      <th>0</th>\n",
       "      <td>143</td>\n",
       "      <td>0</td>\n",
       "      <td>0</td>\n",
       "      <td>190</td>\n",
       "      <td>2017-11-10T00:00:00Z</td>\n",
       "      <td>1613.53</td>\n",
       "      <td>21804</td>\n",
       "      <td>10</td>\n",
       "      <td>854</td>\n",
       "      <td>292.91</td>\n",
       "      <td>25.04</td>\n",
       "      <td>0</td>\n",
       "      <td>0</td>\n",
       "      <td>0.0</td>\n",
       "    </tr>\n",
       "    <tr>\n",
       "      <th>1</th>\n",
       "      <td>433</td>\n",
       "      <td>0</td>\n",
       "      <td>1</td>\n",
       "      <td>153</td>\n",
       "      <td>2011-05-16T00:00:00Z</td>\n",
       "      <td>11163.69</td>\n",
       "      <td>5486</td>\n",
       "      <td>20</td>\n",
       "      <td>246</td>\n",
       "      <td>287.19</td>\n",
       "      <td>12.33</td>\n",
       "      <td>0</td>\n",
       "      <td>5</td>\n",
       "      <td>0.0</td>\n",
       "    </tr>\n",
       "    <tr>\n",
       "      <th>2</th>\n",
       "      <td>486</td>\n",
       "      <td>0</td>\n",
       "      <td>0</td>\n",
       "      <td>166</td>\n",
       "      <td>2018-01-24T00:00:00Z</td>\n",
       "      <td>6432.12</td>\n",
       "      <td>22662</td>\n",
       "      <td>12</td>\n",
       "      <td>1420</td>\n",
       "      <td>184.84</td>\n",
       "      <td>12.80</td>\n",
       "      <td>0</td>\n",
       "      <td>0</td>\n",
       "      <td>0.0</td>\n",
       "    </tr>\n",
       "    <tr>\n",
       "      <th>3</th>\n",
       "      <td>107</td>\n",
       "      <td>0</td>\n",
       "      <td>1</td>\n",
       "      <td>156</td>\n",
       "      <td>2010-07-28T00:00:00Z</td>\n",
       "      <td>831.82</td>\n",
       "      <td>3956</td>\n",
       "      <td>18</td>\n",
       "      <td>1963</td>\n",
       "      <td>189.18</td>\n",
       "      <td>10.51</td>\n",
       "      <td>0</td>\n",
       "      <td>0</td>\n",
       "      <td>0.0</td>\n",
       "    </tr>\n",
       "    <tr>\n",
       "      <th>4</th>\n",
       "      <td>768</td>\n",
       "      <td>0</td>\n",
       "      <td>1</td>\n",
       "      <td>218</td>\n",
       "      <td>2010-12-17T00:00:00Z</td>\n",
       "      <td>1736.48</td>\n",
       "      <td>4730</td>\n",
       "      <td>5</td>\n",
       "      <td>1786</td>\n",
       "      <td>66.87</td>\n",
       "      <td>11.82</td>\n",
       "      <td>0</td>\n",
       "      <td>0</td>\n",
       "      <td>0.0</td>\n",
       "    </tr>\n",
       "    <tr>\n",
       "      <th>...</th>\n",
       "      <td>...</td>\n",
       "      <td>...</td>\n",
       "      <td>...</td>\n",
       "      <td>...</td>\n",
       "      <td>...</td>\n",
       "      <td>...</td>\n",
       "      <td>...</td>\n",
       "      <td>...</td>\n",
       "      <td>...</td>\n",
       "      <td>...</td>\n",
       "      <td>...</td>\n",
       "      <td>...</td>\n",
       "      <td>...</td>\n",
       "      <td>...</td>\n",
       "    </tr>\n",
       "    <tr>\n",
       "      <th>204423</th>\n",
       "      <td>141</td>\n",
       "      <td>0</td>\n",
       "      <td>0</td>\n",
       "      <td>78</td>\n",
       "      <td>2017-02-15T00:00:00Z</td>\n",
       "      <td>1481.02</td>\n",
       "      <td>18922</td>\n",
       "      <td>12</td>\n",
       "      <td>2624</td>\n",
       "      <td>235.19</td>\n",
       "      <td>19.03</td>\n",
       "      <td>0</td>\n",
       "      <td>0</td>\n",
       "      <td>0.0</td>\n",
       "    </tr>\n",
       "    <tr>\n",
       "      <th>204424</th>\n",
       "      <td>31</td>\n",
       "      <td>0</td>\n",
       "      <td>0</td>\n",
       "      <td>181</td>\n",
       "      <td>2018-05-23T00:00:00Z</td>\n",
       "      <td>1105.38</td>\n",
       "      <td>24146</td>\n",
       "      <td>1</td>\n",
       "      <td>844</td>\n",
       "      <td>100.81</td>\n",
       "      <td>100.81</td>\n",
       "      <td>0</td>\n",
       "      <td>0</td>\n",
       "      <td>0.0</td>\n",
       "    </tr>\n",
       "    <tr>\n",
       "      <th>204425</th>\n",
       "      <td>192</td>\n",
       "      <td>0</td>\n",
       "      <td>0</td>\n",
       "      <td>253</td>\n",
       "      <td>2014-10-20T00:00:00Z</td>\n",
       "      <td>1059.66</td>\n",
       "      <td>13285</td>\n",
       "      <td>3</td>\n",
       "      <td>1785</td>\n",
       "      <td>51.08</td>\n",
       "      <td>15.18</td>\n",
       "      <td>0</td>\n",
       "      <td>0</td>\n",
       "      <td>0.0</td>\n",
       "    </tr>\n",
       "    <tr>\n",
       "      <th>204426</th>\n",
       "      <td>687</td>\n",
       "      <td>0</td>\n",
       "      <td>0</td>\n",
       "      <td>190</td>\n",
       "      <td>2015-08-18T00:00:00Z</td>\n",
       "      <td>3167.71</td>\n",
       "      <td>15167</td>\n",
       "      <td>4</td>\n",
       "      <td>1412</td>\n",
       "      <td>230.32</td>\n",
       "      <td>50.56</td>\n",
       "      <td>0</td>\n",
       "      <td>0</td>\n",
       "      <td>0.0</td>\n",
       "    </tr>\n",
       "    <tr>\n",
       "      <th>204427</th>\n",
       "      <td>9</td>\n",
       "      <td>0</td>\n",
       "      <td>0</td>\n",
       "      <td>143</td>\n",
       "      <td>2013-02-26T00:00:00Z</td>\n",
       "      <td>4930.51</td>\n",
       "      <td>9452</td>\n",
       "      <td>10</td>\n",
       "      <td>24</td>\n",
       "      <td>46.35</td>\n",
       "      <td>4.03</td>\n",
       "      <td>0</td>\n",
       "      <td>0</td>\n",
       "      <td>0.0</td>\n",
       "    </tr>\n",
       "  </tbody>\n",
       "</table>\n",
       "<p>204428 rows × 14 columns</p>\n",
       "</div>"
      ],
      "text/plain": [
       "        customer_code  branch_id  sales_channel  seller_code  \\\n",
       "0                 143          0              0          190   \n",
       "1                 433          0              1          153   \n",
       "2                 486          0              0          166   \n",
       "3                 107          0              1          156   \n",
       "4                 768          0              1          218   \n",
       "...               ...        ...            ...          ...   \n",
       "204423            141          0              0           78   \n",
       "204424             31          0              0          181   \n",
       "204425            192          0              0          253   \n",
       "204426            687          0              0          190   \n",
       "204427              9          0              0          143   \n",
       "\n",
       "               register_date  total_price  order_id  quantity  item_code  \\\n",
       "0       2017-11-10T00:00:00Z      1613.53     21804        10        854   \n",
       "1       2011-05-16T00:00:00Z     11163.69      5486        20        246   \n",
       "2       2018-01-24T00:00:00Z      6432.12     22662        12       1420   \n",
       "3       2010-07-28T00:00:00Z       831.82      3956        18       1963   \n",
       "4       2010-12-17T00:00:00Z      1736.48      4730         5       1786   \n",
       "...                      ...          ...       ...       ...        ...   \n",
       "204423  2017-02-15T00:00:00Z      1481.02     18922        12       2624   \n",
       "204424  2018-05-23T00:00:00Z      1105.38     24146         1        844   \n",
       "204425  2014-10-20T00:00:00Z      1059.66     13285         3       1785   \n",
       "204426  2015-08-18T00:00:00Z      3167.71     15167         4       1412   \n",
       "204427  2013-02-26T00:00:00Z      4930.51      9452        10         24   \n",
       "\n",
       "        item_total_price  unit_price  group_code  segment_code  is_churn  \n",
       "0                 292.91       25.04           0             0       0.0  \n",
       "1                 287.19       12.33           0             5       0.0  \n",
       "2                 184.84       12.80           0             0       0.0  \n",
       "3                 189.18       10.51           0             0       0.0  \n",
       "4                  66.87       11.82           0             0       0.0  \n",
       "...                  ...         ...         ...           ...       ...  \n",
       "204423            235.19       19.03           0             0       0.0  \n",
       "204424            100.81      100.81           0             0       0.0  \n",
       "204425             51.08       15.18           0             0       0.0  \n",
       "204426            230.32       50.56           0             0       0.0  \n",
       "204427             46.35        4.03           0             0       0.0  \n",
       "\n",
       "[204428 rows x 14 columns]"
      ]
     },
     "execution_count": 4,
     "metadata": {},
     "output_type": "execute_result"
    }
   ],
   "source": [
    "ambev"
   ]
  },
  {
   "cell_type": "code",
   "execution_count": 5,
   "metadata": {
    "ExecuteTime": {
     "end_time": "2021-03-22T01:22:53.842601Z",
     "start_time": "2021-03-22T01:22:53.752809Z"
    }
   },
   "outputs": [
    {
     "name": "stdout",
     "output_type": "stream",
     "text": [
      "<class 'pandas.core.frame.DataFrame'>\n",
      "RangeIndex: 204428 entries, 0 to 204427\n",
      "Data columns (total 14 columns):\n",
      " #   Column            Non-Null Count   Dtype  \n",
      "---  ------            --------------   -----  \n",
      " 0   customer_code     204428 non-null  int64  \n",
      " 1   branch_id         204428 non-null  int64  \n",
      " 2   sales_channel     204428 non-null  int64  \n",
      " 3   seller_code       204428 non-null  int64  \n",
      " 4   register_date     204428 non-null  object \n",
      " 5   total_price       204428 non-null  float64\n",
      " 6   order_id          204428 non-null  int64  \n",
      " 7   quantity          204428 non-null  int64  \n",
      " 8   item_code         204428 non-null  int64  \n",
      " 9   item_total_price  204428 non-null  float64\n",
      " 10  unit_price        204428 non-null  float64\n",
      " 11  group_code        204428 non-null  int64  \n",
      " 12  segment_code      204428 non-null  int64  \n",
      " 13  is_churn          202513 non-null  float64\n",
      "dtypes: float64(4), int64(9), object(1)\n",
      "memory usage: 21.8+ MB\n"
     ]
    }
   ],
   "source": [
    "ambev.info()"
   ]
  },
  {
   "cell_type": "markdown",
   "metadata": {},
   "source": [
    "Here’s the description of each column:\n",
    "\n",
    " customer_code: unique id of a customer;\n",
    "\n",
    " branch_id: the branch id where this order was made;\n",
    "\n",
    " sales_channel: the sales channel this order was made;\n",
    "\n",
    " seller_code: seller that made this order;\n",
    "\n",
    " register_date: date of the order;\n",
    "\n",
    " total_price: total price of the order (sum of all items);\n",
    "\n",
    " order_id: id of this order. A order is formed by a set of items;\n",
    "\n",
    " item_code: code of the item;\n",
    "\n",
    " quantity: quantity of items, given by item_code, were bought;\n",
    "\n",
    " item_total_price: total price of items, i.e., quantity* price;\n",
    "\n",
    " unit_price: unit price of this item;\n",
    "\n",
    " group_code: which group this customer belongs;\n",
    "\n",
    " segment_code: segment this client belongs;\n",
    "\n",
    " is_churn: True, if we believe the client will not come back. For a given customer_code this value is always the same, it means that \"today\" (the day you are doing this test) this client is a churn."
   ]
  },
  {
   "cell_type": "markdown",
   "metadata": {},
   "source": [
    "# Question 1 (10 Points):\n",
    "\n",
    "List as many use cases for the dataset as possible."
   ]
  },
  {
   "cell_type": "markdown",
   "metadata": {},
   "source": [
    "- We could make a top customers (customer_code) chart (in total_price, or count(order_id)) and understand what these customers buy (item_code) in order to market these products to others\n",
    "- We could make a recommendation model (memory-based) based on client taste similarity (\"collaborative filtering\") to match customers with similar taste and suggest each other products they haven't bought yet.\n",
    "- We could check the variation of sales (a boxplot) of each type of sales channel to see which channel is the busiest for selling (sales_channel and total_price)\n",
    "- We could check the sellers (seller_code) which have the highest churn rate (is_churn) so we could verify sellers who are not good for our business. We could also check the products related to those churn.\n",
    "- We could reclassify our clients according to their products based on a clustering model.\n",
    "-*__We could do a ML model to predict the churn customers that are missing in our database.__*"
   ]
  },
  {
   "cell_type": "markdown",
   "metadata": {},
   "source": [
    "# Question 2 (10 Points):\n",
    "\n",
    "Pick one of the use cases you listed in question 1 and describe how building a statistical model based on the dataset could best be used to improve the business this data comes from."
   ]
  },
  {
   "cell_type": "markdown",
   "metadata": {},
   "source": [
    "- We are going to pick the case where we want to train the model and predict if a client will be churn or not, since we have missing values on that column. This could help us identifying which customers we need to focus our client satisfaction program actions. With the classification done, we can check any correlations between the churn rate and variables present in the purchase (like identifying if customers who buy few items are more likely to be churn)."
   ]
  },
  {
   "cell_type": "markdown",
   "metadata": {},
   "source": [
    "# Question 3 (20 Points)\n",
    "\n",
    "Implement the model you described in question 2, preferably in Python. The code has to retrieve the data, train and test a statistical model, and report relevant performance criteria. Ideally, we should be able to replicate your analysis from your submitted source-code, so please explicit the versions of the tools and packages you are using."
   ]
  },
  {
   "cell_type": "markdown",
   "metadata": {},
   "source": [
    "## Data wrangling"
   ]
  },
  {
   "cell_type": "markdown",
   "metadata": {},
   "source": [
    "Checking for nulls and the data types."
   ]
  },
  {
   "cell_type": "code",
   "execution_count": 6,
   "metadata": {
    "ExecuteTime": {
     "end_time": "2021-03-22T01:22:53.927311Z",
     "start_time": "2021-03-22T01:22:53.842601Z"
    }
   },
   "outputs": [
    {
     "name": "stdout",
     "output_type": "stream",
     "text": [
      "<class 'pandas.core.frame.DataFrame'>\n",
      "RangeIndex: 204428 entries, 0 to 204427\n",
      "Data columns (total 14 columns):\n",
      " #   Column            Non-Null Count   Dtype  \n",
      "---  ------            --------------   -----  \n",
      " 0   customer_code     204428 non-null  int64  \n",
      " 1   branch_id         204428 non-null  int64  \n",
      " 2   sales_channel     204428 non-null  int64  \n",
      " 3   seller_code       204428 non-null  int64  \n",
      " 4   register_date     204428 non-null  object \n",
      " 5   total_price       204428 non-null  float64\n",
      " 6   order_id          204428 non-null  int64  \n",
      " 7   quantity          204428 non-null  int64  \n",
      " 8   item_code         204428 non-null  int64  \n",
      " 9   item_total_price  204428 non-null  float64\n",
      " 10  unit_price        204428 non-null  float64\n",
      " 11  group_code        204428 non-null  int64  \n",
      " 12  segment_code      204428 non-null  int64  \n",
      " 13  is_churn          202513 non-null  float64\n",
      "dtypes: float64(4), int64(9), object(1)\n",
      "memory usage: 21.8+ MB\n"
     ]
    }
   ],
   "source": [
    "ambev.info()"
   ]
  },
  {
   "cell_type": "markdown",
   "metadata": {},
   "source": [
    "- *__register_date__* is in format of object instead of *__datetime__*\n",
    "- *__is_churn__* is in float64 format instead of *__boolean__* (since there are two options)\n",
    "    - Yes: is churn, the client won't come back\n",
    "    - No: is not churn, the client will come back)\n",
    "- *__is_churn__* has some nulls"
   ]
  },
  {
   "cell_type": "code",
   "execution_count": 7,
   "metadata": {
    "ExecuteTime": {
     "end_time": "2021-03-22T01:22:53.989783Z",
     "start_time": "2021-03-22T01:22:53.927311Z"
    }
   },
   "outputs": [
    {
     "name": "stdout",
     "output_type": "stream",
     "text": [
      "0.0    163799\n",
      "1.0     38714\n",
      "Name: is_churn, dtype: int64\n",
      "float64\n"
     ]
    }
   ],
   "source": [
    "print(ambev['is_churn'].value_counts())\n",
    "print(ambev['is_churn'].dtype)"
   ]
  },
  {
   "cell_type": "markdown",
   "metadata": {},
   "source": [
    "Also there are only values 0 for the branch_id."
   ]
  },
  {
   "cell_type": "code",
   "execution_count": 8,
   "metadata": {
    "ExecuteTime": {
     "end_time": "2021-03-22T01:22:54.058899Z",
     "start_time": "2021-03-22T01:22:53.989783Z"
    }
   },
   "outputs": [
    {
     "data": {
      "text/plain": [
       "0    204428\n",
       "Name: branch_id, dtype: int64"
      ]
     },
     "execution_count": 8,
     "metadata": {},
     "output_type": "execute_result"
    }
   ],
   "source": [
    "ambev['branch_id'].value_counts()"
   ]
  },
  {
   "cell_type": "markdown",
   "metadata": {},
   "source": [
    "### register_date data type correction"
   ]
  },
  {
   "cell_type": "code",
   "execution_count": 9,
   "metadata": {
    "ExecuteTime": {
     "end_time": "2021-03-22T01:22:54.227948Z",
     "start_time": "2021-03-22T01:22:54.062219Z"
    }
   },
   "outputs": [
    {
     "data": {
      "text/plain": [
       "dtype('O')"
      ]
     },
     "execution_count": 9,
     "metadata": {},
     "output_type": "execute_result"
    }
   ],
   "source": [
    "ambev['register_date'].dtype"
   ]
  },
  {
   "cell_type": "code",
   "execution_count": 10,
   "metadata": {
    "ExecuteTime": {
     "end_time": "2021-03-22T01:22:54.612740Z",
     "start_time": "2021-03-22T01:22:54.227948Z"
    }
   },
   "outputs": [],
   "source": [
    "ambev['register_date'] = ambev['register_date'].astype('datetime64')"
   ]
  },
  {
   "cell_type": "code",
   "execution_count": 11,
   "metadata": {
    "ExecuteTime": {
     "end_time": "2021-03-22T01:22:54.643992Z",
     "start_time": "2021-03-22T01:22:54.612740Z"
    }
   },
   "outputs": [
    {
     "data": {
      "text/html": [
       "<div>\n",
       "<style scoped>\n",
       "    .dataframe tbody tr th:only-of-type {\n",
       "        vertical-align: middle;\n",
       "    }\n",
       "\n",
       "    .dataframe tbody tr th {\n",
       "        vertical-align: top;\n",
       "    }\n",
       "\n",
       "    .dataframe thead th {\n",
       "        text-align: right;\n",
       "    }\n",
       "</style>\n",
       "<table border=\"1\" class=\"dataframe\">\n",
       "  <thead>\n",
       "    <tr style=\"text-align: right;\">\n",
       "      <th></th>\n",
       "      <th>customer_code</th>\n",
       "      <th>branch_id</th>\n",
       "      <th>sales_channel</th>\n",
       "      <th>seller_code</th>\n",
       "      <th>register_date</th>\n",
       "      <th>total_price</th>\n",
       "      <th>order_id</th>\n",
       "      <th>quantity</th>\n",
       "      <th>item_code</th>\n",
       "      <th>item_total_price</th>\n",
       "      <th>unit_price</th>\n",
       "      <th>group_code</th>\n",
       "      <th>segment_code</th>\n",
       "      <th>is_churn</th>\n",
       "    </tr>\n",
       "  </thead>\n",
       "  <tbody>\n",
       "    <tr>\n",
       "      <th>0</th>\n",
       "      <td>143</td>\n",
       "      <td>0</td>\n",
       "      <td>0</td>\n",
       "      <td>190</td>\n",
       "      <td>2017-11-10</td>\n",
       "      <td>1613.53</td>\n",
       "      <td>21804</td>\n",
       "      <td>10</td>\n",
       "      <td>854</td>\n",
       "      <td>292.91</td>\n",
       "      <td>25.04</td>\n",
       "      <td>0</td>\n",
       "      <td>0</td>\n",
       "      <td>0.0</td>\n",
       "    </tr>\n",
       "    <tr>\n",
       "      <th>1</th>\n",
       "      <td>433</td>\n",
       "      <td>0</td>\n",
       "      <td>1</td>\n",
       "      <td>153</td>\n",
       "      <td>2011-05-16</td>\n",
       "      <td>11163.69</td>\n",
       "      <td>5486</td>\n",
       "      <td>20</td>\n",
       "      <td>246</td>\n",
       "      <td>287.19</td>\n",
       "      <td>12.33</td>\n",
       "      <td>0</td>\n",
       "      <td>5</td>\n",
       "      <td>0.0</td>\n",
       "    </tr>\n",
       "    <tr>\n",
       "      <th>2</th>\n",
       "      <td>486</td>\n",
       "      <td>0</td>\n",
       "      <td>0</td>\n",
       "      <td>166</td>\n",
       "      <td>2018-01-24</td>\n",
       "      <td>6432.12</td>\n",
       "      <td>22662</td>\n",
       "      <td>12</td>\n",
       "      <td>1420</td>\n",
       "      <td>184.84</td>\n",
       "      <td>12.80</td>\n",
       "      <td>0</td>\n",
       "      <td>0</td>\n",
       "      <td>0.0</td>\n",
       "    </tr>\n",
       "    <tr>\n",
       "      <th>3</th>\n",
       "      <td>107</td>\n",
       "      <td>0</td>\n",
       "      <td>1</td>\n",
       "      <td>156</td>\n",
       "      <td>2010-07-28</td>\n",
       "      <td>831.82</td>\n",
       "      <td>3956</td>\n",
       "      <td>18</td>\n",
       "      <td>1963</td>\n",
       "      <td>189.18</td>\n",
       "      <td>10.51</td>\n",
       "      <td>0</td>\n",
       "      <td>0</td>\n",
       "      <td>0.0</td>\n",
       "    </tr>\n",
       "    <tr>\n",
       "      <th>4</th>\n",
       "      <td>768</td>\n",
       "      <td>0</td>\n",
       "      <td>1</td>\n",
       "      <td>218</td>\n",
       "      <td>2010-12-17</td>\n",
       "      <td>1736.48</td>\n",
       "      <td>4730</td>\n",
       "      <td>5</td>\n",
       "      <td>1786</td>\n",
       "      <td>66.87</td>\n",
       "      <td>11.82</td>\n",
       "      <td>0</td>\n",
       "      <td>0</td>\n",
       "      <td>0.0</td>\n",
       "    </tr>\n",
       "    <tr>\n",
       "      <th>...</th>\n",
       "      <td>...</td>\n",
       "      <td>...</td>\n",
       "      <td>...</td>\n",
       "      <td>...</td>\n",
       "      <td>...</td>\n",
       "      <td>...</td>\n",
       "      <td>...</td>\n",
       "      <td>...</td>\n",
       "      <td>...</td>\n",
       "      <td>...</td>\n",
       "      <td>...</td>\n",
       "      <td>...</td>\n",
       "      <td>...</td>\n",
       "      <td>...</td>\n",
       "    </tr>\n",
       "    <tr>\n",
       "      <th>204423</th>\n",
       "      <td>141</td>\n",
       "      <td>0</td>\n",
       "      <td>0</td>\n",
       "      <td>78</td>\n",
       "      <td>2017-02-15</td>\n",
       "      <td>1481.02</td>\n",
       "      <td>18922</td>\n",
       "      <td>12</td>\n",
       "      <td>2624</td>\n",
       "      <td>235.19</td>\n",
       "      <td>19.03</td>\n",
       "      <td>0</td>\n",
       "      <td>0</td>\n",
       "      <td>0.0</td>\n",
       "    </tr>\n",
       "    <tr>\n",
       "      <th>204424</th>\n",
       "      <td>31</td>\n",
       "      <td>0</td>\n",
       "      <td>0</td>\n",
       "      <td>181</td>\n",
       "      <td>2018-05-23</td>\n",
       "      <td>1105.38</td>\n",
       "      <td>24146</td>\n",
       "      <td>1</td>\n",
       "      <td>844</td>\n",
       "      <td>100.81</td>\n",
       "      <td>100.81</td>\n",
       "      <td>0</td>\n",
       "      <td>0</td>\n",
       "      <td>0.0</td>\n",
       "    </tr>\n",
       "    <tr>\n",
       "      <th>204425</th>\n",
       "      <td>192</td>\n",
       "      <td>0</td>\n",
       "      <td>0</td>\n",
       "      <td>253</td>\n",
       "      <td>2014-10-20</td>\n",
       "      <td>1059.66</td>\n",
       "      <td>13285</td>\n",
       "      <td>3</td>\n",
       "      <td>1785</td>\n",
       "      <td>51.08</td>\n",
       "      <td>15.18</td>\n",
       "      <td>0</td>\n",
       "      <td>0</td>\n",
       "      <td>0.0</td>\n",
       "    </tr>\n",
       "    <tr>\n",
       "      <th>204426</th>\n",
       "      <td>687</td>\n",
       "      <td>0</td>\n",
       "      <td>0</td>\n",
       "      <td>190</td>\n",
       "      <td>2015-08-18</td>\n",
       "      <td>3167.71</td>\n",
       "      <td>15167</td>\n",
       "      <td>4</td>\n",
       "      <td>1412</td>\n",
       "      <td>230.32</td>\n",
       "      <td>50.56</td>\n",
       "      <td>0</td>\n",
       "      <td>0</td>\n",
       "      <td>0.0</td>\n",
       "    </tr>\n",
       "    <tr>\n",
       "      <th>204427</th>\n",
       "      <td>9</td>\n",
       "      <td>0</td>\n",
       "      <td>0</td>\n",
       "      <td>143</td>\n",
       "      <td>2013-02-26</td>\n",
       "      <td>4930.51</td>\n",
       "      <td>9452</td>\n",
       "      <td>10</td>\n",
       "      <td>24</td>\n",
       "      <td>46.35</td>\n",
       "      <td>4.03</td>\n",
       "      <td>0</td>\n",
       "      <td>0</td>\n",
       "      <td>0.0</td>\n",
       "    </tr>\n",
       "  </tbody>\n",
       "</table>\n",
       "<p>204428 rows × 14 columns</p>\n",
       "</div>"
      ],
      "text/plain": [
       "        customer_code  branch_id  sales_channel  seller_code register_date  \\\n",
       "0                 143          0              0          190    2017-11-10   \n",
       "1                 433          0              1          153    2011-05-16   \n",
       "2                 486          0              0          166    2018-01-24   \n",
       "3                 107          0              1          156    2010-07-28   \n",
       "4                 768          0              1          218    2010-12-17   \n",
       "...               ...        ...            ...          ...           ...   \n",
       "204423            141          0              0           78    2017-02-15   \n",
       "204424             31          0              0          181    2018-05-23   \n",
       "204425            192          0              0          253    2014-10-20   \n",
       "204426            687          0              0          190    2015-08-18   \n",
       "204427              9          0              0          143    2013-02-26   \n",
       "\n",
       "        total_price  order_id  quantity  item_code  item_total_price  \\\n",
       "0           1613.53     21804        10        854            292.91   \n",
       "1          11163.69      5486        20        246            287.19   \n",
       "2           6432.12     22662        12       1420            184.84   \n",
       "3            831.82      3956        18       1963            189.18   \n",
       "4           1736.48      4730         5       1786             66.87   \n",
       "...             ...       ...       ...        ...               ...   \n",
       "204423      1481.02     18922        12       2624            235.19   \n",
       "204424      1105.38     24146         1        844            100.81   \n",
       "204425      1059.66     13285         3       1785             51.08   \n",
       "204426      3167.71     15167         4       1412            230.32   \n",
       "204427      4930.51      9452        10         24             46.35   \n",
       "\n",
       "        unit_price  group_code  segment_code  is_churn  \n",
       "0            25.04           0             0       0.0  \n",
       "1            12.33           0             5       0.0  \n",
       "2            12.80           0             0       0.0  \n",
       "3            10.51           0             0       0.0  \n",
       "4            11.82           0             0       0.0  \n",
       "...            ...         ...           ...       ...  \n",
       "204423       19.03           0             0       0.0  \n",
       "204424      100.81           0             0       0.0  \n",
       "204425       15.18           0             0       0.0  \n",
       "204426       50.56           0             0       0.0  \n",
       "204427        4.03           0             0       0.0  \n",
       "\n",
       "[204428 rows x 14 columns]"
      ]
     },
     "execution_count": 11,
     "metadata": {},
     "output_type": "execute_result"
    }
   ],
   "source": [
    "ambev"
   ]
  },
  {
   "cell_type": "markdown",
   "metadata": {},
   "source": [
    "### is_churn data type correction"
   ]
  },
  {
   "cell_type": "code",
   "execution_count": 13,
   "metadata": {
    "ExecuteTime": {
     "end_time": "2021-03-22T01:23:38.417653Z",
     "start_time": "2021-03-22T01:23:38.386403Z"
    }
   },
   "outputs": [],
   "source": [
    "ambev['is_churn'] = ambev['is_churn'].astype('boolean')"
   ]
  },
  {
   "cell_type": "code",
   "execution_count": 14,
   "metadata": {
    "ExecuteTime": {
     "end_time": "2021-03-22T01:23:40.905915Z",
     "start_time": "2021-03-22T01:23:40.858917Z"
    }
   },
   "outputs": [
    {
     "data": {
      "text/html": [
       "<div>\n",
       "<style scoped>\n",
       "    .dataframe tbody tr th:only-of-type {\n",
       "        vertical-align: middle;\n",
       "    }\n",
       "\n",
       "    .dataframe tbody tr th {\n",
       "        vertical-align: top;\n",
       "    }\n",
       "\n",
       "    .dataframe thead th {\n",
       "        text-align: right;\n",
       "    }\n",
       "</style>\n",
       "<table border=\"1\" class=\"dataframe\">\n",
       "  <thead>\n",
       "    <tr style=\"text-align: right;\">\n",
       "      <th></th>\n",
       "      <th>customer_code</th>\n",
       "      <th>branch_id</th>\n",
       "      <th>sales_channel</th>\n",
       "      <th>seller_code</th>\n",
       "      <th>register_date</th>\n",
       "      <th>total_price</th>\n",
       "      <th>order_id</th>\n",
       "      <th>quantity</th>\n",
       "      <th>item_code</th>\n",
       "      <th>item_total_price</th>\n",
       "      <th>unit_price</th>\n",
       "      <th>group_code</th>\n",
       "      <th>segment_code</th>\n",
       "      <th>is_churn</th>\n",
       "    </tr>\n",
       "  </thead>\n",
       "  <tbody>\n",
       "    <tr>\n",
       "      <th>0</th>\n",
       "      <td>143</td>\n",
       "      <td>0</td>\n",
       "      <td>0</td>\n",
       "      <td>190</td>\n",
       "      <td>2017-11-10</td>\n",
       "      <td>1613.53</td>\n",
       "      <td>21804</td>\n",
       "      <td>10</td>\n",
       "      <td>854</td>\n",
       "      <td>292.91</td>\n",
       "      <td>25.04</td>\n",
       "      <td>0</td>\n",
       "      <td>0</td>\n",
       "      <td>False</td>\n",
       "    </tr>\n",
       "    <tr>\n",
       "      <th>1</th>\n",
       "      <td>433</td>\n",
       "      <td>0</td>\n",
       "      <td>1</td>\n",
       "      <td>153</td>\n",
       "      <td>2011-05-16</td>\n",
       "      <td>11163.69</td>\n",
       "      <td>5486</td>\n",
       "      <td>20</td>\n",
       "      <td>246</td>\n",
       "      <td>287.19</td>\n",
       "      <td>12.33</td>\n",
       "      <td>0</td>\n",
       "      <td>5</td>\n",
       "      <td>False</td>\n",
       "    </tr>\n",
       "    <tr>\n",
       "      <th>2</th>\n",
       "      <td>486</td>\n",
       "      <td>0</td>\n",
       "      <td>0</td>\n",
       "      <td>166</td>\n",
       "      <td>2018-01-24</td>\n",
       "      <td>6432.12</td>\n",
       "      <td>22662</td>\n",
       "      <td>12</td>\n",
       "      <td>1420</td>\n",
       "      <td>184.84</td>\n",
       "      <td>12.80</td>\n",
       "      <td>0</td>\n",
       "      <td>0</td>\n",
       "      <td>False</td>\n",
       "    </tr>\n",
       "    <tr>\n",
       "      <th>3</th>\n",
       "      <td>107</td>\n",
       "      <td>0</td>\n",
       "      <td>1</td>\n",
       "      <td>156</td>\n",
       "      <td>2010-07-28</td>\n",
       "      <td>831.82</td>\n",
       "      <td>3956</td>\n",
       "      <td>18</td>\n",
       "      <td>1963</td>\n",
       "      <td>189.18</td>\n",
       "      <td>10.51</td>\n",
       "      <td>0</td>\n",
       "      <td>0</td>\n",
       "      <td>False</td>\n",
       "    </tr>\n",
       "    <tr>\n",
       "      <th>4</th>\n",
       "      <td>768</td>\n",
       "      <td>0</td>\n",
       "      <td>1</td>\n",
       "      <td>218</td>\n",
       "      <td>2010-12-17</td>\n",
       "      <td>1736.48</td>\n",
       "      <td>4730</td>\n",
       "      <td>5</td>\n",
       "      <td>1786</td>\n",
       "      <td>66.87</td>\n",
       "      <td>11.82</td>\n",
       "      <td>0</td>\n",
       "      <td>0</td>\n",
       "      <td>False</td>\n",
       "    </tr>\n",
       "    <tr>\n",
       "      <th>...</th>\n",
       "      <td>...</td>\n",
       "      <td>...</td>\n",
       "      <td>...</td>\n",
       "      <td>...</td>\n",
       "      <td>...</td>\n",
       "      <td>...</td>\n",
       "      <td>...</td>\n",
       "      <td>...</td>\n",
       "      <td>...</td>\n",
       "      <td>...</td>\n",
       "      <td>...</td>\n",
       "      <td>...</td>\n",
       "      <td>...</td>\n",
       "      <td>...</td>\n",
       "    </tr>\n",
       "    <tr>\n",
       "      <th>204423</th>\n",
       "      <td>141</td>\n",
       "      <td>0</td>\n",
       "      <td>0</td>\n",
       "      <td>78</td>\n",
       "      <td>2017-02-15</td>\n",
       "      <td>1481.02</td>\n",
       "      <td>18922</td>\n",
       "      <td>12</td>\n",
       "      <td>2624</td>\n",
       "      <td>235.19</td>\n",
       "      <td>19.03</td>\n",
       "      <td>0</td>\n",
       "      <td>0</td>\n",
       "      <td>False</td>\n",
       "    </tr>\n",
       "    <tr>\n",
       "      <th>204424</th>\n",
       "      <td>31</td>\n",
       "      <td>0</td>\n",
       "      <td>0</td>\n",
       "      <td>181</td>\n",
       "      <td>2018-05-23</td>\n",
       "      <td>1105.38</td>\n",
       "      <td>24146</td>\n",
       "      <td>1</td>\n",
       "      <td>844</td>\n",
       "      <td>100.81</td>\n",
       "      <td>100.81</td>\n",
       "      <td>0</td>\n",
       "      <td>0</td>\n",
       "      <td>False</td>\n",
       "    </tr>\n",
       "    <tr>\n",
       "      <th>204425</th>\n",
       "      <td>192</td>\n",
       "      <td>0</td>\n",
       "      <td>0</td>\n",
       "      <td>253</td>\n",
       "      <td>2014-10-20</td>\n",
       "      <td>1059.66</td>\n",
       "      <td>13285</td>\n",
       "      <td>3</td>\n",
       "      <td>1785</td>\n",
       "      <td>51.08</td>\n",
       "      <td>15.18</td>\n",
       "      <td>0</td>\n",
       "      <td>0</td>\n",
       "      <td>False</td>\n",
       "    </tr>\n",
       "    <tr>\n",
       "      <th>204426</th>\n",
       "      <td>687</td>\n",
       "      <td>0</td>\n",
       "      <td>0</td>\n",
       "      <td>190</td>\n",
       "      <td>2015-08-18</td>\n",
       "      <td>3167.71</td>\n",
       "      <td>15167</td>\n",
       "      <td>4</td>\n",
       "      <td>1412</td>\n",
       "      <td>230.32</td>\n",
       "      <td>50.56</td>\n",
       "      <td>0</td>\n",
       "      <td>0</td>\n",
       "      <td>False</td>\n",
       "    </tr>\n",
       "    <tr>\n",
       "      <th>204427</th>\n",
       "      <td>9</td>\n",
       "      <td>0</td>\n",
       "      <td>0</td>\n",
       "      <td>143</td>\n",
       "      <td>2013-02-26</td>\n",
       "      <td>4930.51</td>\n",
       "      <td>9452</td>\n",
       "      <td>10</td>\n",
       "      <td>24</td>\n",
       "      <td>46.35</td>\n",
       "      <td>4.03</td>\n",
       "      <td>0</td>\n",
       "      <td>0</td>\n",
       "      <td>False</td>\n",
       "    </tr>\n",
       "  </tbody>\n",
       "</table>\n",
       "<p>204428 rows × 14 columns</p>\n",
       "</div>"
      ],
      "text/plain": [
       "        customer_code  branch_id  sales_channel  seller_code register_date  \\\n",
       "0                 143          0              0          190    2017-11-10   \n",
       "1                 433          0              1          153    2011-05-16   \n",
       "2                 486          0              0          166    2018-01-24   \n",
       "3                 107          0              1          156    2010-07-28   \n",
       "4                 768          0              1          218    2010-12-17   \n",
       "...               ...        ...            ...          ...           ...   \n",
       "204423            141          0              0           78    2017-02-15   \n",
       "204424             31          0              0          181    2018-05-23   \n",
       "204425            192          0              0          253    2014-10-20   \n",
       "204426            687          0              0          190    2015-08-18   \n",
       "204427              9          0              0          143    2013-02-26   \n",
       "\n",
       "        total_price  order_id  quantity  item_code  item_total_price  \\\n",
       "0           1613.53     21804        10        854            292.91   \n",
       "1          11163.69      5486        20        246            287.19   \n",
       "2           6432.12     22662        12       1420            184.84   \n",
       "3            831.82      3956        18       1963            189.18   \n",
       "4           1736.48      4730         5       1786             66.87   \n",
       "...             ...       ...       ...        ...               ...   \n",
       "204423      1481.02     18922        12       2624            235.19   \n",
       "204424      1105.38     24146         1        844            100.81   \n",
       "204425      1059.66     13285         3       1785             51.08   \n",
       "204426      3167.71     15167         4       1412            230.32   \n",
       "204427      4930.51      9452        10         24             46.35   \n",
       "\n",
       "        unit_price  group_code  segment_code  is_churn  \n",
       "0            25.04           0             0     False  \n",
       "1            12.33           0             5     False  \n",
       "2            12.80           0             0     False  \n",
       "3            10.51           0             0     False  \n",
       "4            11.82           0             0     False  \n",
       "...            ...         ...           ...       ...  \n",
       "204423       19.03           0             0     False  \n",
       "204424      100.81           0             0     False  \n",
       "204425       15.18           0             0     False  \n",
       "204426       50.56           0             0     False  \n",
       "204427        4.03           0             0     False  \n",
       "\n",
       "[204428 rows x 14 columns]"
      ]
     },
     "execution_count": 14,
     "metadata": {},
     "output_type": "execute_result"
    }
   ],
   "source": [
    "ambev"
   ]
  },
  {
   "cell_type": "markdown",
   "metadata": {},
   "source": [
    "### is_churn nulls correction"
   ]
  },
  {
   "cell_type": "markdown",
   "metadata": {},
   "source": [
    "Checking under which conditions is_churn have null values, it seems that when clients from group_code == 3 and segment_code ==7 make purchases, they don't have is_churn."
   ]
  },
  {
   "cell_type": "code",
   "execution_count": 15,
   "metadata": {
    "ExecuteTime": {
     "end_time": "2021-03-22T01:23:42.780450Z",
     "start_time": "2021-03-22T01:23:42.749181Z"
    }
   },
   "outputs": [
    {
     "data": {
      "text/html": [
       "<div>\n",
       "<style scoped>\n",
       "    .dataframe tbody tr th:only-of-type {\n",
       "        vertical-align: middle;\n",
       "    }\n",
       "\n",
       "    .dataframe tbody tr th {\n",
       "        vertical-align: top;\n",
       "    }\n",
       "\n",
       "    .dataframe thead th {\n",
       "        text-align: right;\n",
       "    }\n",
       "</style>\n",
       "<table border=\"1\" class=\"dataframe\">\n",
       "  <thead>\n",
       "    <tr style=\"text-align: right;\">\n",
       "      <th></th>\n",
       "      <th>customer_code</th>\n",
       "      <th>branch_id</th>\n",
       "      <th>sales_channel</th>\n",
       "      <th>seller_code</th>\n",
       "      <th>register_date</th>\n",
       "      <th>total_price</th>\n",
       "      <th>order_id</th>\n",
       "      <th>quantity</th>\n",
       "      <th>item_code</th>\n",
       "      <th>item_total_price</th>\n",
       "      <th>unit_price</th>\n",
       "      <th>group_code</th>\n",
       "      <th>segment_code</th>\n",
       "      <th>is_churn</th>\n",
       "    </tr>\n",
       "  </thead>\n",
       "  <tbody>\n",
       "    <tr>\n",
       "      <th>73</th>\n",
       "      <td>834</td>\n",
       "      <td>0</td>\n",
       "      <td>0</td>\n",
       "      <td>140</td>\n",
       "      <td>2014-09-30</td>\n",
       "      <td>966.87</td>\n",
       "      <td>13192</td>\n",
       "      <td>1</td>\n",
       "      <td>2790</td>\n",
       "      <td>22.31</td>\n",
       "      <td>22.31</td>\n",
       "      <td>3</td>\n",
       "      <td>7</td>\n",
       "      <td>&lt;NA&gt;</td>\n",
       "    </tr>\n",
       "    <tr>\n",
       "      <th>78</th>\n",
       "      <td>792</td>\n",
       "      <td>0</td>\n",
       "      <td>0</td>\n",
       "      <td>101</td>\n",
       "      <td>2015-06-08</td>\n",
       "      <td>3053.39</td>\n",
       "      <td>14680</td>\n",
       "      <td>48</td>\n",
       "      <td>2630</td>\n",
       "      <td>783.36</td>\n",
       "      <td>16.32</td>\n",
       "      <td>3</td>\n",
       "      <td>7</td>\n",
       "      <td>&lt;NA&gt;</td>\n",
       "    </tr>\n",
       "    <tr>\n",
       "      <th>241</th>\n",
       "      <td>721</td>\n",
       "      <td>0</td>\n",
       "      <td>0</td>\n",
       "      <td>182</td>\n",
       "      <td>2013-02-26</td>\n",
       "      <td>5074.97</td>\n",
       "      <td>9455</td>\n",
       "      <td>6</td>\n",
       "      <td>2673</td>\n",
       "      <td>70.75</td>\n",
       "      <td>11.59</td>\n",
       "      <td>3</td>\n",
       "      <td>7</td>\n",
       "      <td>&lt;NA&gt;</td>\n",
       "    </tr>\n",
       "    <tr>\n",
       "      <th>315</th>\n",
       "      <td>529</td>\n",
       "      <td>0</td>\n",
       "      <td>0</td>\n",
       "      <td>83</td>\n",
       "      <td>2015-01-22</td>\n",
       "      <td>1664.96</td>\n",
       "      <td>13842</td>\n",
       "      <td>18</td>\n",
       "      <td>795</td>\n",
       "      <td>320.09</td>\n",
       "      <td>314.64</td>\n",
       "      <td>3</td>\n",
       "      <td>7</td>\n",
       "      <td>&lt;NA&gt;</td>\n",
       "    </tr>\n",
       "    <tr>\n",
       "      <th>377</th>\n",
       "      <td>319</td>\n",
       "      <td>0</td>\n",
       "      <td>7</td>\n",
       "      <td>177</td>\n",
       "      <td>2017-09-01</td>\n",
       "      <td>828.94</td>\n",
       "      <td>20977</td>\n",
       "      <td>3</td>\n",
       "      <td>1763</td>\n",
       "      <td>119.64</td>\n",
       "      <td>39.20</td>\n",
       "      <td>3</td>\n",
       "      <td>7</td>\n",
       "      <td>&lt;NA&gt;</td>\n",
       "    </tr>\n",
       "    <tr>\n",
       "      <th>...</th>\n",
       "      <td>...</td>\n",
       "      <td>...</td>\n",
       "      <td>...</td>\n",
       "      <td>...</td>\n",
       "      <td>...</td>\n",
       "      <td>...</td>\n",
       "      <td>...</td>\n",
       "      <td>...</td>\n",
       "      <td>...</td>\n",
       "      <td>...</td>\n",
       "      <td>...</td>\n",
       "      <td>...</td>\n",
       "      <td>...</td>\n",
       "      <td>...</td>\n",
       "    </tr>\n",
       "    <tr>\n",
       "      <th>203638</th>\n",
       "      <td>792</td>\n",
       "      <td>0</td>\n",
       "      <td>0</td>\n",
       "      <td>101</td>\n",
       "      <td>2015-02-18</td>\n",
       "      <td>3081.79</td>\n",
       "      <td>14005</td>\n",
       "      <td>18</td>\n",
       "      <td>795</td>\n",
       "      <td>279.00</td>\n",
       "      <td>279.00</td>\n",
       "      <td>3</td>\n",
       "      <td>7</td>\n",
       "      <td>&lt;NA&gt;</td>\n",
       "    </tr>\n",
       "    <tr>\n",
       "      <th>203694</th>\n",
       "      <td>529</td>\n",
       "      <td>0</td>\n",
       "      <td>1</td>\n",
       "      <td>41</td>\n",
       "      <td>2012-05-07</td>\n",
       "      <td>2351.54</td>\n",
       "      <td>7624</td>\n",
       "      <td>1</td>\n",
       "      <td>532</td>\n",
       "      <td>126.43</td>\n",
       "      <td>124.28</td>\n",
       "      <td>3</td>\n",
       "      <td>7</td>\n",
       "      <td>&lt;NA&gt;</td>\n",
       "    </tr>\n",
       "    <tr>\n",
       "      <th>204121</th>\n",
       "      <td>319</td>\n",
       "      <td>0</td>\n",
       "      <td>0</td>\n",
       "      <td>177</td>\n",
       "      <td>2017-07-10</td>\n",
       "      <td>1004.02</td>\n",
       "      <td>20307</td>\n",
       "      <td>4</td>\n",
       "      <td>1767</td>\n",
       "      <td>252.42</td>\n",
       "      <td>62.03</td>\n",
       "      <td>3</td>\n",
       "      <td>7</td>\n",
       "      <td>&lt;NA&gt;</td>\n",
       "    </tr>\n",
       "    <tr>\n",
       "      <th>204240</th>\n",
       "      <td>16</td>\n",
       "      <td>0</td>\n",
       "      <td>6</td>\n",
       "      <td>150</td>\n",
       "      <td>2015-04-15</td>\n",
       "      <td>1564.63</td>\n",
       "      <td>14384</td>\n",
       "      <td>2</td>\n",
       "      <td>1785</td>\n",
       "      <td>29.84</td>\n",
       "      <td>14.92</td>\n",
       "      <td>3</td>\n",
       "      <td>7</td>\n",
       "      <td>&lt;NA&gt;</td>\n",
       "    </tr>\n",
       "    <tr>\n",
       "      <th>204377</th>\n",
       "      <td>721</td>\n",
       "      <td>0</td>\n",
       "      <td>1</td>\n",
       "      <td>182</td>\n",
       "      <td>2012-03-27</td>\n",
       "      <td>5456.42</td>\n",
       "      <td>7394</td>\n",
       "      <td>6</td>\n",
       "      <td>652</td>\n",
       "      <td>83.32</td>\n",
       "      <td>13.65</td>\n",
       "      <td>3</td>\n",
       "      <td>7</td>\n",
       "      <td>&lt;NA&gt;</td>\n",
       "    </tr>\n",
       "  </tbody>\n",
       "</table>\n",
       "<p>1915 rows × 14 columns</p>\n",
       "</div>"
      ],
      "text/plain": [
       "        customer_code  branch_id  sales_channel  seller_code register_date  \\\n",
       "73                834          0              0          140    2014-09-30   \n",
       "78                792          0              0          101    2015-06-08   \n",
       "241               721          0              0          182    2013-02-26   \n",
       "315               529          0              0           83    2015-01-22   \n",
       "377               319          0              7          177    2017-09-01   \n",
       "...               ...        ...            ...          ...           ...   \n",
       "203638            792          0              0          101    2015-02-18   \n",
       "203694            529          0              1           41    2012-05-07   \n",
       "204121            319          0              0          177    2017-07-10   \n",
       "204240             16          0              6          150    2015-04-15   \n",
       "204377            721          0              1          182    2012-03-27   \n",
       "\n",
       "        total_price  order_id  quantity  item_code  item_total_price  \\\n",
       "73           966.87     13192         1       2790             22.31   \n",
       "78          3053.39     14680        48       2630            783.36   \n",
       "241         5074.97      9455         6       2673             70.75   \n",
       "315         1664.96     13842        18        795            320.09   \n",
       "377          828.94     20977         3       1763            119.64   \n",
       "...             ...       ...       ...        ...               ...   \n",
       "203638      3081.79     14005        18        795            279.00   \n",
       "203694      2351.54      7624         1        532            126.43   \n",
       "204121      1004.02     20307         4       1767            252.42   \n",
       "204240      1564.63     14384         2       1785             29.84   \n",
       "204377      5456.42      7394         6        652             83.32   \n",
       "\n",
       "        unit_price  group_code  segment_code  is_churn  \n",
       "73           22.31           3             7      <NA>  \n",
       "78           16.32           3             7      <NA>  \n",
       "241          11.59           3             7      <NA>  \n",
       "315         314.64           3             7      <NA>  \n",
       "377          39.20           3             7      <NA>  \n",
       "...            ...         ...           ...       ...  \n",
       "203638      279.00           3             7      <NA>  \n",
       "203694      124.28           3             7      <NA>  \n",
       "204121       62.03           3             7      <NA>  \n",
       "204240       14.92           3             7      <NA>  \n",
       "204377       13.65           3             7      <NA>  \n",
       "\n",
       "[1915 rows x 14 columns]"
      ]
     },
     "execution_count": 15,
     "metadata": {},
     "output_type": "execute_result"
    }
   ],
   "source": [
    "ambev[ambev['is_churn'].isna()]"
   ]
  },
  {
   "cell_type": "markdown",
   "metadata": {},
   "source": [
    "We can confirmt his by checking the value counts for both columns.\n",
    "\n",
    "Nulls are in data of group 3."
   ]
  },
  {
   "cell_type": "code",
   "execution_count": 16,
   "metadata": {
    "ExecuteTime": {
     "end_time": "2021-03-22T01:23:44.153042Z",
     "start_time": "2021-03-22T01:23:44.137389Z"
    }
   },
   "outputs": [
    {
     "data": {
      "text/plain": [
       "3    1915\n",
       "Name: group_code, dtype: int64"
      ]
     },
     "execution_count": 16,
     "metadata": {},
     "output_type": "execute_result"
    }
   ],
   "source": [
    "ambev[ambev['is_churn'].isna()]['group_code'].value_counts()"
   ]
  },
  {
   "cell_type": "markdown",
   "metadata": {},
   "source": [
    "There are no nulls outside of the group 3."
   ]
  },
  {
   "cell_type": "code",
   "execution_count": 17,
   "metadata": {
    "ExecuteTime": {
     "end_time": "2021-03-22T01:23:44.469680Z",
     "start_time": "2021-03-22T01:23:44.437781Z"
    }
   },
   "outputs": [
    {
     "data": {
      "text/plain": [
       "0    170164\n",
       "2     24703\n",
       "1      7646\n",
       "Name: group_code, dtype: int64"
      ]
     },
     "execution_count": 17,
     "metadata": {},
     "output_type": "execute_result"
    }
   ],
   "source": [
    "ambev[~ambev['is_churn'].isna()]['group_code'].value_counts()"
   ]
  },
  {
   "cell_type": "markdown",
   "metadata": {},
   "source": [
    "Nulls are in data of segment 7."
   ]
  },
  {
   "cell_type": "code",
   "execution_count": 18,
   "metadata": {
    "ExecuteTime": {
     "end_time": "2021-03-22T01:23:44.731820Z",
     "start_time": "2021-03-22T01:23:44.700555Z"
    }
   },
   "outputs": [
    {
     "data": {
      "text/plain": [
       "7    1915\n",
       "Name: segment_code, dtype: int64"
      ]
     },
     "execution_count": 18,
     "metadata": {},
     "output_type": "execute_result"
    }
   ],
   "source": [
    "ambev[ambev['is_churn'].isna()]['segment_code'].value_counts()"
   ]
  },
  {
   "cell_type": "markdown",
   "metadata": {},
   "source": [
    "There are no nulls outside of the segment 7."
   ]
  },
  {
   "cell_type": "code",
   "execution_count": 19,
   "metadata": {
    "ExecuteTime": {
     "end_time": "2021-03-22T01:23:45.030360Z",
     "start_time": "2021-03-22T01:23:44.985802Z"
    }
   },
   "outputs": [
    {
     "data": {
      "text/plain": [
       "0    150223\n",
       "2     24703\n",
       "5     10566\n",
       "3      7824\n",
       "4      4878\n",
       "1      2303\n",
       "6      2016\n",
       "Name: segment_code, dtype: int64"
      ]
     },
     "execution_count": 19,
     "metadata": {},
     "output_type": "execute_result"
    }
   ],
   "source": [
    "ambev[~ambev['is_churn'].isna()]['segment_code'].value_counts()"
   ]
  },
  {
   "cell_type": "markdown",
   "metadata": {},
   "source": [
    "Let's separate our dataset into two datasets. One which we have data for is_churn and another one that we don't have."
   ]
  },
  {
   "cell_type": "code",
   "execution_count": 20,
   "metadata": {
    "ExecuteTime": {
     "end_time": "2021-03-22T01:23:45.286363Z",
     "start_time": "2021-03-22T01:23:45.270738Z"
    }
   },
   "outputs": [],
   "source": [
    "ambev_churn_non_available = ambev[ambev['is_churn'].isna()]"
   ]
  },
  {
   "cell_type": "code",
   "execution_count": 21,
   "metadata": {
    "ExecuteTime": {
     "end_time": "2021-03-22T01:23:45.455691Z",
     "start_time": "2021-03-22T01:23:45.433541Z"
    }
   },
   "outputs": [],
   "source": [
    "ambev_churn_available = ambev[~ambev['is_churn'].isna()]"
   ]
  },
  {
   "cell_type": "markdown",
   "metadata": {},
   "source": [
    "## Logistic regression\n",
    "Now that we cleaned the dataset and separated the ones we have is_churn and those we don't have, we can do the logistic regression with those we have is_churn.\n",
    "We will follow the following workflow:\n",
    "- Cross-validation: separate 80% of the data for training. Remaining 20% will be divided into 80%\\*20% test and 20%\\*20% validation.\n",
    "    - *train_test_split* method of *sklearn.mode_selection*\n",
    "    - use *stratify = y* and *test_size = 0,2*\n",
    "- Normalize the data\n",
    "- Import model and instantiate it\n",
    "- Fit the training data\n",
    "- Select which error is most relevant\n",
    "    - Type 1 or Type 2\n",
    "- Select a metric for the model evaluation\n",
    "- Analyze the coefficients (x and y) to identify the most relevant one"
   ]
  },
  {
   "cell_type": "markdown",
   "metadata": {},
   "source": [
    "### Checking whether our dataset is balanced or unbalanced\n",
    "From inspection, we can tell our dataset is unbalanced. We have too many Falses.\n",
    "\n",
    "We will have to stratify it (include the argument stratify) in our train_test_split method below."
   ]
  },
  {
   "cell_type": "code",
   "execution_count": 60,
   "metadata": {
    "ExecuteTime": {
     "end_time": "2021-03-22T18:13:49.277280Z",
     "start_time": "2021-03-22T18:13:49.201281Z"
    }
   },
   "outputs": [
    {
     "data": {
      "text/plain": [
       "False    163799\n",
       "True      38714\n",
       "Name: is_churn, dtype: Int64"
      ]
     },
     "execution_count": 60,
     "metadata": {},
     "output_type": "execute_result"
    }
   ],
   "source": [
    "ambev_churn_available['is_churn'].value_counts()"
   ]
  },
  {
   "cell_type": "code",
   "execution_count": 22,
   "metadata": {
    "ExecuteTime": {
     "end_time": "2021-03-22T01:23:45.703056Z",
     "start_time": "2021-03-22T01:23:45.687436Z"
    }
   },
   "outputs": [],
   "source": [
    "#sns.scatterplot(x='customer_code',y='is_churn', data=ambev_churn_available)"
   ]
  },
  {
   "cell_type": "markdown",
   "metadata": {},
   "source": [
    "### Feature selection"
   ]
  },
  {
   "cell_type": "markdown",
   "metadata": {},
   "source": [
    "#### Correlation between possible features"
   ]
  },
  {
   "cell_type": "markdown",
   "metadata": {},
   "source": [
    "We previously noted that branch_id has only 0 values, so we will (kind of) drop it."
   ]
  },
  {
   "cell_type": "code",
   "execution_count": 23,
   "metadata": {
    "ExecuteTime": {
     "end_time": "2021-03-22T01:23:46.588780Z",
     "start_time": "2021-03-22T01:23:46.573146Z"
    }
   },
   "outputs": [],
   "source": [
    "ambev_churn_available = ambev_churn_available.loc[:,ambev_churn_available.columns!='branch_id']"
   ]
  },
  {
   "cell_type": "markdown",
   "metadata": {},
   "source": [
    "Plotting the correlation in a table and a chart:"
   ]
  },
  {
   "cell_type": "code",
   "execution_count": 24,
   "metadata": {
    "ExecuteTime": {
     "end_time": "2021-03-22T01:23:47.103554Z",
     "start_time": "2021-03-22T01:23:46.958970Z"
    }
   },
   "outputs": [
    {
     "data": {
      "text/html": [
       "<div>\n",
       "<style scoped>\n",
       "    .dataframe tbody tr th:only-of-type {\n",
       "        vertical-align: middle;\n",
       "    }\n",
       "\n",
       "    .dataframe tbody tr th {\n",
       "        vertical-align: top;\n",
       "    }\n",
       "\n",
       "    .dataframe thead th {\n",
       "        text-align: right;\n",
       "    }\n",
       "</style>\n",
       "<table border=\"1\" class=\"dataframe\">\n",
       "  <thead>\n",
       "    <tr style=\"text-align: right;\">\n",
       "      <th></th>\n",
       "      <th>customer_code</th>\n",
       "      <th>sales_channel</th>\n",
       "      <th>seller_code</th>\n",
       "      <th>total_price</th>\n",
       "      <th>order_id</th>\n",
       "      <th>quantity</th>\n",
       "      <th>item_code</th>\n",
       "      <th>item_total_price</th>\n",
       "      <th>unit_price</th>\n",
       "      <th>group_code</th>\n",
       "      <th>segment_code</th>\n",
       "      <th>is_churn</th>\n",
       "    </tr>\n",
       "  </thead>\n",
       "  <tbody>\n",
       "    <tr>\n",
       "      <th>customer_code</th>\n",
       "      <td>1.000000</td>\n",
       "      <td>0.013233</td>\n",
       "      <td>0.061865</td>\n",
       "      <td>0.091020</td>\n",
       "      <td>-0.092976</td>\n",
       "      <td>0.040072</td>\n",
       "      <td>-0.018868</td>\n",
       "      <td>0.039972</td>\n",
       "      <td>-0.006798</td>\n",
       "      <td>-0.025257</td>\n",
       "      <td>0.003977</td>\n",
       "      <td>0.014126</td>\n",
       "    </tr>\n",
       "    <tr>\n",
       "      <th>sales_channel</th>\n",
       "      <td>0.013233</td>\n",
       "      <td>1.000000</td>\n",
       "      <td>0.198949</td>\n",
       "      <td>-0.084678</td>\n",
       "      <td>-0.189216</td>\n",
       "      <td>-0.021591</td>\n",
       "      <td>-0.005410</td>\n",
       "      <td>-0.047200</td>\n",
       "      <td>-0.027199</td>\n",
       "      <td>0.339710</td>\n",
       "      <td>0.035908</td>\n",
       "      <td>0.174574</td>\n",
       "    </tr>\n",
       "    <tr>\n",
       "      <th>seller_code</th>\n",
       "      <td>0.061865</td>\n",
       "      <td>0.198949</td>\n",
       "      <td>1.000000</td>\n",
       "      <td>0.013414</td>\n",
       "      <td>-0.078934</td>\n",
       "      <td>0.016409</td>\n",
       "      <td>0.002271</td>\n",
       "      <td>0.016682</td>\n",
       "      <td>-0.002256</td>\n",
       "      <td>0.177283</td>\n",
       "      <td>0.139810</td>\n",
       "      <td>0.083958</td>\n",
       "    </tr>\n",
       "    <tr>\n",
       "      <th>total_price</th>\n",
       "      <td>0.091020</td>\n",
       "      <td>-0.084678</td>\n",
       "      <td>0.013414</td>\n",
       "      <td>1.000000</td>\n",
       "      <td>0.068231</td>\n",
       "      <td>0.364798</td>\n",
       "      <td>0.002420</td>\n",
       "      <td>0.403057</td>\n",
       "      <td>0.036117</td>\n",
       "      <td>0.098147</td>\n",
       "      <td>0.197388</td>\n",
       "      <td>0.225919</td>\n",
       "    </tr>\n",
       "    <tr>\n",
       "      <th>order_id</th>\n",
       "      <td>-0.092976</td>\n",
       "      <td>-0.189216</td>\n",
       "      <td>-0.078934</td>\n",
       "      <td>0.068231</td>\n",
       "      <td>1.000000</td>\n",
       "      <td>0.013720</td>\n",
       "      <td>0.039807</td>\n",
       "      <td>0.033266</td>\n",
       "      <td>0.027292</td>\n",
       "      <td>0.030856</td>\n",
       "      <td>0.054439</td>\n",
       "      <td>0.003286</td>\n",
       "    </tr>\n",
       "    <tr>\n",
       "      <th>quantity</th>\n",
       "      <td>0.040072</td>\n",
       "      <td>-0.021591</td>\n",
       "      <td>0.016409</td>\n",
       "      <td>0.364798</td>\n",
       "      <td>0.013720</td>\n",
       "      <td>1.000000</td>\n",
       "      <td>0.023965</td>\n",
       "      <td>0.812991</td>\n",
       "      <td>0.071001</td>\n",
       "      <td>0.067211</td>\n",
       "      <td>0.102642</td>\n",
       "      <td>0.127041</td>\n",
       "    </tr>\n",
       "    <tr>\n",
       "      <th>item_code</th>\n",
       "      <td>-0.018868</td>\n",
       "      <td>-0.005410</td>\n",
       "      <td>0.002271</td>\n",
       "      <td>0.002420</td>\n",
       "      <td>0.039807</td>\n",
       "      <td>0.023965</td>\n",
       "      <td>1.000000</td>\n",
       "      <td>0.019297</td>\n",
       "      <td>-0.019215</td>\n",
       "      <td>-0.085219</td>\n",
       "      <td>-0.013839</td>\n",
       "      <td>-0.046554</td>\n",
       "    </tr>\n",
       "    <tr>\n",
       "      <th>item_total_price</th>\n",
       "      <td>0.039972</td>\n",
       "      <td>-0.047200</td>\n",
       "      <td>0.016682</td>\n",
       "      <td>0.403057</td>\n",
       "      <td>0.033266</td>\n",
       "      <td>0.812991</td>\n",
       "      <td>0.019297</td>\n",
       "      <td>1.000000</td>\n",
       "      <td>0.143332</td>\n",
       "      <td>0.047220</td>\n",
       "      <td>0.117507</td>\n",
       "      <td>0.133185</td>\n",
       "    </tr>\n",
       "    <tr>\n",
       "      <th>unit_price</th>\n",
       "      <td>-0.006798</td>\n",
       "      <td>-0.027199</td>\n",
       "      <td>-0.002256</td>\n",
       "      <td>0.036117</td>\n",
       "      <td>0.027292</td>\n",
       "      <td>0.071001</td>\n",
       "      <td>-0.019215</td>\n",
       "      <td>0.143332</td>\n",
       "      <td>1.000000</td>\n",
       "      <td>0.008519</td>\n",
       "      <td>0.040357</td>\n",
       "      <td>0.054271</td>\n",
       "    </tr>\n",
       "    <tr>\n",
       "      <th>group_code</th>\n",
       "      <td>-0.025257</td>\n",
       "      <td>0.339710</td>\n",
       "      <td>0.177283</td>\n",
       "      <td>0.098147</td>\n",
       "      <td>0.030856</td>\n",
       "      <td>0.067211</td>\n",
       "      <td>-0.085219</td>\n",
       "      <td>0.047220</td>\n",
       "      <td>0.008519</td>\n",
       "      <td>1.000000</td>\n",
       "      <td>0.376356</td>\n",
       "      <td>0.710854</td>\n",
       "    </tr>\n",
       "    <tr>\n",
       "      <th>segment_code</th>\n",
       "      <td>0.003977</td>\n",
       "      <td>0.035908</td>\n",
       "      <td>0.139810</td>\n",
       "      <td>0.197388</td>\n",
       "      <td>0.054439</td>\n",
       "      <td>0.102642</td>\n",
       "      <td>-0.013839</td>\n",
       "      <td>0.117507</td>\n",
       "      <td>0.040357</td>\n",
       "      <td>0.376356</td>\n",
       "      <td>1.000000</td>\n",
       "      <td>0.377036</td>\n",
       "    </tr>\n",
       "    <tr>\n",
       "      <th>is_churn</th>\n",
       "      <td>0.014126</td>\n",
       "      <td>0.174574</td>\n",
       "      <td>0.083958</td>\n",
       "      <td>0.225919</td>\n",
       "      <td>0.003286</td>\n",
       "      <td>0.127041</td>\n",
       "      <td>-0.046554</td>\n",
       "      <td>0.133185</td>\n",
       "      <td>0.054271</td>\n",
       "      <td>0.710854</td>\n",
       "      <td>0.377036</td>\n",
       "      <td>1.000000</td>\n",
       "    </tr>\n",
       "  </tbody>\n",
       "</table>\n",
       "</div>"
      ],
      "text/plain": [
       "                  customer_code  sales_channel  seller_code  total_price  \\\n",
       "customer_code          1.000000       0.013233     0.061865     0.091020   \n",
       "sales_channel          0.013233       1.000000     0.198949    -0.084678   \n",
       "seller_code            0.061865       0.198949     1.000000     0.013414   \n",
       "total_price            0.091020      -0.084678     0.013414     1.000000   \n",
       "order_id              -0.092976      -0.189216    -0.078934     0.068231   \n",
       "quantity               0.040072      -0.021591     0.016409     0.364798   \n",
       "item_code             -0.018868      -0.005410     0.002271     0.002420   \n",
       "item_total_price       0.039972      -0.047200     0.016682     0.403057   \n",
       "unit_price            -0.006798      -0.027199    -0.002256     0.036117   \n",
       "group_code            -0.025257       0.339710     0.177283     0.098147   \n",
       "segment_code           0.003977       0.035908     0.139810     0.197388   \n",
       "is_churn               0.014126       0.174574     0.083958     0.225919   \n",
       "\n",
       "                  order_id  quantity  item_code  item_total_price  unit_price  \\\n",
       "customer_code    -0.092976  0.040072  -0.018868          0.039972   -0.006798   \n",
       "sales_channel    -0.189216 -0.021591  -0.005410         -0.047200   -0.027199   \n",
       "seller_code      -0.078934  0.016409   0.002271          0.016682   -0.002256   \n",
       "total_price       0.068231  0.364798   0.002420          0.403057    0.036117   \n",
       "order_id          1.000000  0.013720   0.039807          0.033266    0.027292   \n",
       "quantity          0.013720  1.000000   0.023965          0.812991    0.071001   \n",
       "item_code         0.039807  0.023965   1.000000          0.019297   -0.019215   \n",
       "item_total_price  0.033266  0.812991   0.019297          1.000000    0.143332   \n",
       "unit_price        0.027292  0.071001  -0.019215          0.143332    1.000000   \n",
       "group_code        0.030856  0.067211  -0.085219          0.047220    0.008519   \n",
       "segment_code      0.054439  0.102642  -0.013839          0.117507    0.040357   \n",
       "is_churn          0.003286  0.127041  -0.046554          0.133185    0.054271   \n",
       "\n",
       "                  group_code  segment_code  is_churn  \n",
       "customer_code      -0.025257      0.003977  0.014126  \n",
       "sales_channel       0.339710      0.035908  0.174574  \n",
       "seller_code         0.177283      0.139810  0.083958  \n",
       "total_price         0.098147      0.197388  0.225919  \n",
       "order_id            0.030856      0.054439  0.003286  \n",
       "quantity            0.067211      0.102642  0.127041  \n",
       "item_code          -0.085219     -0.013839 -0.046554  \n",
       "item_total_price    0.047220      0.117507  0.133185  \n",
       "unit_price          0.008519      0.040357  0.054271  \n",
       "group_code          1.000000      0.376356  0.710854  \n",
       "segment_code        0.376356      1.000000  0.377036  \n",
       "is_churn            0.710854      0.377036  1.000000  "
      ]
     },
     "execution_count": 24,
     "metadata": {},
     "output_type": "execute_result"
    }
   ],
   "source": [
    "ambev_churn_available.corr()"
   ]
  },
  {
   "cell_type": "code",
   "execution_count": 25,
   "metadata": {
    "ExecuteTime": {
     "end_time": "2021-03-22T01:23:47.861226Z",
     "start_time": "2021-03-22T01:23:47.291008Z"
    }
   },
   "outputs": [
    {
     "data": {
      "text/plain": [
       "<AxesSubplot:>"
      ]
     },
     "execution_count": 25,
     "metadata": {},
     "output_type": "execute_result"
    },
    {
     "data": {
      "image/png": "[encoded data removed]",
      "text/plain": [
       "<Figure size 792x648 with 2 Axes>"
      ]
     },
     "metadata": {},
     "output_type": "display_data"
    }
   ],
   "source": [
    "sns.set_theme(style=\"white\")\n",
    "\n",
    "# Compute the correlation matrix\n",
    "corr = ambev_churn_available.corr()\n",
    "\n",
    "# Generate a mask for the upper triangle\n",
    "mask = np.triu(np.ones_like(corr, dtype=bool))\n",
    "\n",
    "# Set up the matplotlib figure\n",
    "f, ax = plt.subplots(figsize=(11, 9))\n",
    "\n",
    "# Generate a custom diverging colormap\n",
    "cmap = sns.diverging_palette(230, 20, as_cmap=True)\n",
    "\n",
    "# Draw the heatmap with the mask and correct aspect ratio\n",
    "sns.heatmap(corr, mask=mask, cmap=cmap, vmax=.3, center=0,\n",
    "            square=True, linewidths=.5, cbar_kws={\"shrink\": .5})"
   ]
  },
  {
   "cell_type": "markdown",
   "metadata": {},
   "source": [
    "We noticed some strong correlations:\n",
    "- *total_price* and *item_total_price*, which is expected since the higher the total value of a product, the higher the total purchase\n",
    "- *quantity* and *item_total_price* which is expected since the higher amount of the same product, the higher its total value on the order\n",
    "- *quantity* and *total_price* which is expected since the more you buy, the higher the total value of the order\n",
    "- *segment_code* and *group_code* which means that some segments have unique groups.\n",
    "\n",
    "Some interesting correlations that we don't know why:\n",
    "- *group_code* and *sales_channel*\n",
    "- *seller_code* and *sales_channel*\n",
    "- *order_id* and *sales_channel*\n",
    "\n",
    "Correlations that we can identify as important to predict is_churn in our logistic regression:\n",
    "- *group_code* and *segment_code* have strong correlation to *is_churn*\n",
    "- *total_price* have a slight correlation to *is_churn*"
   ]
  },
  {
   "cell_type": "markdown",
   "metadata": {},
   "source": [
    "#### Selected features\n",
    "By the correlation map, we could suggest that *group_code*, *segment_code* and *total_price* are more relevant to determine *is_churn*. However, we don't have data to train on the *group_code* and *segment_code* related to the missing *is_churn* rows. We will have to start with *total_price* only."
   ]
  },
  {
   "cell_type": "code",
   "execution_count": 32,
   "metadata": {
    "ExecuteTime": {
     "end_time": "2021-03-22T01:35:44.110271Z",
     "start_time": "2021-03-22T01:35:44.094645Z"
    }
   },
   "outputs": [],
   "source": [
    "X = ambev_churn_available[['total_price']]\n",
    "y = ambev_churn_available['is_churn']"
   ]
  },
  {
   "cell_type": "markdown",
   "metadata": {},
   "source": [
    "### Transforming categorical columns into numerical"
   ]
  },
  {
   "cell_type": "markdown",
   "metadata": {},
   "source": [
    "Since some of our columns of the dataset that will become part of y contain categorical values, we have to transform them to numerical. We will use onehotencoder."
   ]
  },
  {
   "cell_type": "code",
   "execution_count": 61,
   "metadata": {
    "ExecuteTime": {
     "end_time": "2021-03-22T20:04:31.917925Z",
     "start_time": "2021-03-22T20:04:31.892621Z"
    }
   },
   "outputs": [],
   "source": [
    "#encoder = OrdinalEncoder(categories=ambev_churn_available.select_dtypes('object').columns)"
   ]
  },
  {
   "cell_type": "code",
   "execution_count": 62,
   "metadata": {
    "ExecuteTime": {
     "end_time": "2021-03-22T20:04:32.218915Z",
     "start_time": "2021-03-22T20:04:32.205915Z"
    }
   },
   "outputs": [],
   "source": [
    "#encoder.fit(ambev_churn_available)"
   ]
  },
  {
   "cell_type": "code",
   "execution_count": 63,
   "metadata": {
    "ExecuteTime": {
     "end_time": "2021-03-22T20:04:35.630480Z",
     "start_time": "2021-03-22T20:04:35.624460Z"
    }
   },
   "outputs": [],
   "source": [
    "#encoder.transform(X)"
   ]
  },
  {
   "cell_type": "markdown",
   "metadata": {},
   "source": [
    "### Holdout\n",
    "Since we have a very large dataset and we are going for an initial modeling step, we will choose a holdout strategy. Later on, if needed, we will analyze a cross-validation. Cross validations are computational intensive and it doesn't make too much sense using them if we don't know how accurate our first model is yet."
   ]
  },
  {
   "cell_type": "markdown",
   "metadata": {},
   "source": [
    "Creating our validation strategy, we will divide our dataset into the data to train and the data to validate:"
   ]
  },
  {
   "cell_type": "code",
   "execution_count": 64,
   "metadata": {
    "ExecuteTime": {
     "end_time": "2021-03-22T20:11:04.392964Z",
     "start_time": "2021-03-22T20:11:04.063671Z"
    }
   },
   "outputs": [],
   "source": [
    "# split the data into two groups, 20% for validation and 80% for training\n",
    "# also we will stratify it as in y, since we have unbalanced sets and we don't want to risk separating only Yes or Nos to one of the groups.\n",
    "X_train, X_test, y_train, y_test = train_test_split(X, y, random_state=0, test_size=0.2, stratify=y)"
   ]
  },
  {
   "cell_type": "code",
   "execution_count": 65,
   "metadata": {
    "ExecuteTime": {
     "end_time": "2021-03-22T20:11:06.527537Z",
     "start_time": "2021-03-22T20:11:06.518535Z"
    }
   },
   "outputs": [
    {
     "data": {
      "text/plain": [
       "(        total_price\n",
       " 159994      1425.08\n",
       " 156546      1196.94\n",
       " 32875       3623.46\n",
       " 201028      2352.77\n",
       " 123124      5832.13\n",
       " ...             ...\n",
       " 64659        673.03\n",
       " 145598      1005.65\n",
       " 32091       3571.68\n",
       " 154306      2154.48\n",
       " 144704      1111.98\n",
       " \n",
       " [162010 rows x 1 columns],\n",
       " 159994    False\n",
       " 156546    False\n",
       " 32875      True\n",
       " 201028    False\n",
       " 123124    False\n",
       "           ...  \n",
       " 64659      True\n",
       " 145598    False\n",
       " 32091     False\n",
       " 154306    False\n",
       " 144704    False\n",
       " Name: is_churn, Length: 162010, dtype: boolean)"
      ]
     },
     "execution_count": 65,
     "metadata": {},
     "output_type": "execute_result"
    }
   ],
   "source": [
    "X_train, y_train"
   ]
  },
  {
   "cell_type": "code",
   "execution_count": 67,
   "metadata": {
    "ExecuteTime": {
     "end_time": "2021-03-22T20:20:10.420457Z",
     "start_time": "2021-03-22T20:20:10.414454Z"
    }
   },
   "outputs": [
    {
     "data": {
      "text/plain": [
       "total_price    float64\n",
       "dtype: object"
      ]
     },
     "execution_count": 67,
     "metadata": {},
     "output_type": "execute_result"
    }
   ],
   "source": [
    "X_train.dtypes"
   ]
  },
  {
   "cell_type": "code",
   "execution_count": 66,
   "metadata": {
    "ExecuteTime": {
     "end_time": "2021-03-22T20:20:08.427375Z",
     "start_time": "2021-03-22T20:20:08.415360Z"
    }
   },
   "outputs": [
    {
     "data": {
      "text/plain": [
       "BooleanDtype"
      ]
     },
     "execution_count": 66,
     "metadata": {},
     "output_type": "execute_result"
    }
   ],
   "source": [
    "y_train.dtype"
   ]
  },
  {
   "cell_type": "markdown",
   "metadata": {},
   "source": [
    "Now we are going to split even further the X_test and y_test:"
   ]
  },
  {
   "cell_type": "code",
   "execution_count": null,
   "metadata": {
    "ExecuteTime": {
     "end_time": "2021-03-22T01:22:55.546359Z",
     "start_time": "2021-03-22T01:22:49.993Z"
    }
   },
   "outputs": [],
   "source": [
    "X_valid, X_test, y_valid, y_test = train_test_split(X_test, y_test, random_state=0, test_size=0.2)"
   ]
  },
  {
   "cell_type": "markdown",
   "metadata": {},
   "source": [
    "### Fitting the model"
   ]
  },
  {
   "cell_type": "code",
   "execution_count": null,
   "metadata": {
    "ExecuteTime": {
     "end_time": "2021-03-22T01:22:55.546359Z",
     "start_time": "2021-03-22T01:22:49.997Z"
    }
   },
   "outputs": [],
   "source": [
    "logistic_model = LogisticRegression() #instantiate it"
   ]
  },
  {
   "cell_type": "code",
   "execution_count": null,
   "metadata": {
    "ExecuteTime": {
     "end_time": "2021-03-22T01:22:55.546359Z",
     "start_time": "2021-03-22T01:22:50.003Z"
    }
   },
   "outputs": [],
   "source": [
    "logistic_model.fit(X=X_train, y=y_train) #fitting the model with data"
   ]
  },
  {
   "cell_type": "code",
   "execution_count": null,
   "metadata": {},
   "outputs": [],
   "source": []
  },
  {
   "cell_type": "code",
   "execution_count": null,
   "metadata": {},
   "outputs": [],
   "source": []
  }
 ],
 "metadata": {
  "kernelspec": {
   "display_name": "Python 3",
   "language": "python",
   "name": "python3"
  },
  "language_info": {
   "codemirror_mode": {
    "name": "ipython",
    "version": 3
   },
   "file_extension": ".py",
   "mimetype": "text/x-python",
   "name": "python",
   "nbconvert_exporter": "python",
   "pygments_lexer": "ipython3",
   "version": "3.9.0"
  },
  "toc": {
   "base_numbering": 1,
   "nav_menu": {},
   "number_sections": true,
   "sideBar": true,
   "skip_h1_title": false,
   "title_cell": "Table of Contents",
   "title_sidebar": "Contents",
   "toc_cell": false,
   "toc_position": {
    "height": "calc(100% - 180px)",
    "left": "10px",
    "top": "150px",
    "width": "275.2px"
   },
   "toc_section_display": true,
   "toc_window_display": true
  },
  "varInspector": {
   "cols": {
    "lenName": 16,
    "lenType": 16,
    "lenVar": 40
   },
   "kernels_config": {
    "python": {
     "delete_cmd_postfix": "",
     "delete_cmd_prefix": "del ",
     "library": "var_list.py",
     "varRefreshCmd": "print(var_dic_list())"
    },
    "r": {
     "delete_cmd_postfix": ") ",
     "delete_cmd_prefix": "rm(",
     "library": "var_list.r",
     "varRefreshCmd": "cat(var_dic_list()) "
    }
   },
   "types_to_exclude": [
    "module",
    "function",
    "builtin_function_or_method",
    "instance",
    "_Feature"
   ],
   "window_display": false
  }
 },
 "nbformat": 4,
 "nbformat_minor": 4
}
