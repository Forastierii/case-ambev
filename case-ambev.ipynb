{
 "cells": [
  {
   "cell_type": "markdown",
   "metadata": {},
   "source": [
    "# Library import"
   ]
  },
  {
   "cell_type": "code",
   "execution_count": 1,
   "metadata": {
    "ExecuteTime": {
     "end_time": "2021-03-26T17:05:54.213785Z",
     "start_time": "2021-03-26T17:05:42.367195Z"
    }
   },
   "outputs": [],
   "source": [
    "#For csv importing, dataframe handling and transformation:\n",
    "import pandas as pd\n",
    "import numpy as np\n",
    "\n",
    "#For visualizations:\n",
    "import seaborn as sns\n",
    "from string import ascii_letters\n",
    "import matplotlib.pyplot as plt\n",
    "\n",
    "#For cross validation:\n",
    "from sklearn.model_selection import train_test_split\n",
    "from sklearn.metrics import roc_auc_score\n",
    "from sklearn.model_selection import KFold\n",
    "\n",
    "#For logistic regression model:\n",
    "from sklearn.linear_model import LogisticRegression\n",
    "\n",
    "#For transforming categorical into numerical data:\n",
    "from sklearn.preprocessing import OneHotEncoder, OrdinalEncoder\n",
    "\n",
    "#For decision region of logistic regression predictions plot:\n",
    "from mlxtend.plotting import plot_decision_regions\n",
    "\n",
    "#Standardizing / scaling the variables:\n",
    "from sklearn.preprocessing import StandardScaler\n",
    "\n",
    "#For evaluation of logistic regression model:\n",
    "from sklearn.metrics import f1_score\n",
    "\n",
    "#Roc curve plotting:\n",
    "from sklearn.metrics import plot_roc_curve, roc_auc_score, roc_curve\n",
    "\n",
    "#Confusion matrix visualization:\n",
    "from sklearn.metrics import classification_report, confusion_matrix"
   ]
  },
  {
   "cell_type": "code",
   "execution_count": 2,
   "metadata": {
    "ExecuteTime": {
     "end_time": "2021-03-26T17:05:54.229786Z",
     "start_time": "2021-03-26T17:05:54.215778Z"
    }
   },
   "outputs": [
    {
     "name": "stdout",
     "output_type": "stream",
     "text": [
      "Pandas version: 1.2.0\n",
      "Numpy version: 1.19.5\n",
      "Seaborn version: 0.11.1\n"
     ]
    }
   ],
   "source": [
    "print(f'Pandas version: {pd.__version__}')\n",
    "print(f'Numpy version: {np.__version__}')\n",
    "print(f'Seaborn version: {sns.__version__}')"
   ]
  },
  {
   "cell_type": "code",
   "execution_count": 3,
   "metadata": {
    "ExecuteTime": {
     "end_time": "2021-03-26T17:05:56.861091Z",
     "start_time": "2021-03-26T17:05:54.231800Z"
    }
   },
   "outputs": [],
   "source": [
    "ambev = pd.read_json('dataset.json')"
   ]
  },
  {
   "cell_type": "code",
   "execution_count": 4,
   "metadata": {
    "ExecuteTime": {
     "end_time": "2021-03-26T17:05:57.191091Z",
     "start_time": "2021-03-26T17:05:56.863090Z"
    }
   },
   "outputs": [
    {
     "data": {
      "text/html": [
       "<div>\n",
       "<style scoped>\n",
       "    .dataframe tbody tr th:only-of-type {\n",
       "        vertical-align: middle;\n",
       "    }\n",
       "\n",
       "    .dataframe tbody tr th {\n",
       "        vertical-align: top;\n",
       "    }\n",
       "\n",
       "    .dataframe thead th {\n",
       "        text-align: right;\n",
       "    }\n",
       "</style>\n",
       "<table border=\"1\" class=\"dataframe\">\n",
       "  <thead>\n",
       "    <tr style=\"text-align: right;\">\n",
       "      <th></th>\n",
       "      <th>customer_code</th>\n",
       "      <th>branch_id</th>\n",
       "      <th>sales_channel</th>\n",
       "      <th>seller_code</th>\n",
       "      <th>register_date</th>\n",
       "      <th>total_price</th>\n",
       "      <th>order_id</th>\n",
       "      <th>quantity</th>\n",
       "      <th>item_code</th>\n",
       "      <th>item_total_price</th>\n",
       "      <th>unit_price</th>\n",
       "      <th>group_code</th>\n",
       "      <th>segment_code</th>\n",
       "      <th>is_churn</th>\n",
       "    </tr>\n",
       "  </thead>\n",
       "  <tbody>\n",
       "    <tr>\n",
       "      <th>0</th>\n",
       "      <td>143</td>\n",
       "      <td>0</td>\n",
       "      <td>0</td>\n",
       "      <td>190</td>\n",
       "      <td>2017-11-10T00:00:00Z</td>\n",
       "      <td>1613.53</td>\n",
       "      <td>21804</td>\n",
       "      <td>10</td>\n",
       "      <td>854</td>\n",
       "      <td>292.91</td>\n",
       "      <td>25.04</td>\n",
       "      <td>0</td>\n",
       "      <td>0</td>\n",
       "      <td>0.0</td>\n",
       "    </tr>\n",
       "    <tr>\n",
       "      <th>1</th>\n",
       "      <td>433</td>\n",
       "      <td>0</td>\n",
       "      <td>1</td>\n",
       "      <td>153</td>\n",
       "      <td>2011-05-16T00:00:00Z</td>\n",
       "      <td>11163.69</td>\n",
       "      <td>5486</td>\n",
       "      <td>20</td>\n",
       "      <td>246</td>\n",
       "      <td>287.19</td>\n",
       "      <td>12.33</td>\n",
       "      <td>0</td>\n",
       "      <td>5</td>\n",
       "      <td>0.0</td>\n",
       "    </tr>\n",
       "    <tr>\n",
       "      <th>2</th>\n",
       "      <td>486</td>\n",
       "      <td>0</td>\n",
       "      <td>0</td>\n",
       "      <td>166</td>\n",
       "      <td>2018-01-24T00:00:00Z</td>\n",
       "      <td>6432.12</td>\n",
       "      <td>22662</td>\n",
       "      <td>12</td>\n",
       "      <td>1420</td>\n",
       "      <td>184.84</td>\n",
       "      <td>12.80</td>\n",
       "      <td>0</td>\n",
       "      <td>0</td>\n",
       "      <td>0.0</td>\n",
       "    </tr>\n",
       "    <tr>\n",
       "      <th>3</th>\n",
       "      <td>107</td>\n",
       "      <td>0</td>\n",
       "      <td>1</td>\n",
       "      <td>156</td>\n",
       "      <td>2010-07-28T00:00:00Z</td>\n",
       "      <td>831.82</td>\n",
       "      <td>3956</td>\n",
       "      <td>18</td>\n",
       "      <td>1963</td>\n",
       "      <td>189.18</td>\n",
       "      <td>10.51</td>\n",
       "      <td>0</td>\n",
       "      <td>0</td>\n",
       "      <td>0.0</td>\n",
       "    </tr>\n",
       "    <tr>\n",
       "      <th>4</th>\n",
       "      <td>768</td>\n",
       "      <td>0</td>\n",
       "      <td>1</td>\n",
       "      <td>218</td>\n",
       "      <td>2010-12-17T00:00:00Z</td>\n",
       "      <td>1736.48</td>\n",
       "      <td>4730</td>\n",
       "      <td>5</td>\n",
       "      <td>1786</td>\n",
       "      <td>66.87</td>\n",
       "      <td>11.82</td>\n",
       "      <td>0</td>\n",
       "      <td>0</td>\n",
       "      <td>0.0</td>\n",
       "    </tr>\n",
       "    <tr>\n",
       "      <th>...</th>\n",
       "      <td>...</td>\n",
       "      <td>...</td>\n",
       "      <td>...</td>\n",
       "      <td>...</td>\n",
       "      <td>...</td>\n",
       "      <td>...</td>\n",
       "      <td>...</td>\n",
       "      <td>...</td>\n",
       "      <td>...</td>\n",
       "      <td>...</td>\n",
       "      <td>...</td>\n",
       "      <td>...</td>\n",
       "      <td>...</td>\n",
       "      <td>...</td>\n",
       "    </tr>\n",
       "    <tr>\n",
       "      <th>204423</th>\n",
       "      <td>141</td>\n",
       "      <td>0</td>\n",
       "      <td>0</td>\n",
       "      <td>78</td>\n",
       "      <td>2017-02-15T00:00:00Z</td>\n",
       "      <td>1481.02</td>\n",
       "      <td>18922</td>\n",
       "      <td>12</td>\n",
       "      <td>2624</td>\n",
       "      <td>235.19</td>\n",
       "      <td>19.03</td>\n",
       "      <td>0</td>\n",
       "      <td>0</td>\n",
       "      <td>0.0</td>\n",
       "    </tr>\n",
       "    <tr>\n",
       "      <th>204424</th>\n",
       "      <td>31</td>\n",
       "      <td>0</td>\n",
       "      <td>0</td>\n",
       "      <td>181</td>\n",
       "      <td>2018-05-23T00:00:00Z</td>\n",
       "      <td>1105.38</td>\n",
       "      <td>24146</td>\n",
       "      <td>1</td>\n",
       "      <td>844</td>\n",
       "      <td>100.81</td>\n",
       "      <td>100.81</td>\n",
       "      <td>0</td>\n",
       "      <td>0</td>\n",
       "      <td>0.0</td>\n",
       "    </tr>\n",
       "    <tr>\n",
       "      <th>204425</th>\n",
       "      <td>192</td>\n",
       "      <td>0</td>\n",
       "      <td>0</td>\n",
       "      <td>253</td>\n",
       "      <td>2014-10-20T00:00:00Z</td>\n",
       "      <td>1059.66</td>\n",
       "      <td>13285</td>\n",
       "      <td>3</td>\n",
       "      <td>1785</td>\n",
       "      <td>51.08</td>\n",
       "      <td>15.18</td>\n",
       "      <td>0</td>\n",
       "      <td>0</td>\n",
       "      <td>0.0</td>\n",
       "    </tr>\n",
       "    <tr>\n",
       "      <th>204426</th>\n",
       "      <td>687</td>\n",
       "      <td>0</td>\n",
       "      <td>0</td>\n",
       "      <td>190</td>\n",
       "      <td>2015-08-18T00:00:00Z</td>\n",
       "      <td>3167.71</td>\n",
       "      <td>15167</td>\n",
       "      <td>4</td>\n",
       "      <td>1412</td>\n",
       "      <td>230.32</td>\n",
       "      <td>50.56</td>\n",
       "      <td>0</td>\n",
       "      <td>0</td>\n",
       "      <td>0.0</td>\n",
       "    </tr>\n",
       "    <tr>\n",
       "      <th>204427</th>\n",
       "      <td>9</td>\n",
       "      <td>0</td>\n",
       "      <td>0</td>\n",
       "      <td>143</td>\n",
       "      <td>2013-02-26T00:00:00Z</td>\n",
       "      <td>4930.51</td>\n",
       "      <td>9452</td>\n",
       "      <td>10</td>\n",
       "      <td>24</td>\n",
       "      <td>46.35</td>\n",
       "      <td>4.03</td>\n",
       "      <td>0</td>\n",
       "      <td>0</td>\n",
       "      <td>0.0</td>\n",
       "    </tr>\n",
       "  </tbody>\n",
       "</table>\n",
       "<p>204428 rows × 14 columns</p>\n",
       "</div>"
      ],
      "text/plain": [
       "        customer_code  branch_id  sales_channel  seller_code  \\\n",
       "0                 143          0              0          190   \n",
       "1                 433          0              1          153   \n",
       "2                 486          0              0          166   \n",
       "3                 107          0              1          156   \n",
       "4                 768          0              1          218   \n",
       "...               ...        ...            ...          ...   \n",
       "204423            141          0              0           78   \n",
       "204424             31          0              0          181   \n",
       "204425            192          0              0          253   \n",
       "204426            687          0              0          190   \n",
       "204427              9          0              0          143   \n",
       "\n",
       "               register_date  total_price  order_id  quantity  item_code  \\\n",
       "0       2017-11-10T00:00:00Z      1613.53     21804        10        854   \n",
       "1       2011-05-16T00:00:00Z     11163.69      5486        20        246   \n",
       "2       2018-01-24T00:00:00Z      6432.12     22662        12       1420   \n",
       "3       2010-07-28T00:00:00Z       831.82      3956        18       1963   \n",
       "4       2010-12-17T00:00:00Z      1736.48      4730         5       1786   \n",
       "...                      ...          ...       ...       ...        ...   \n",
       "204423  2017-02-15T00:00:00Z      1481.02     18922        12       2624   \n",
       "204424  2018-05-23T00:00:00Z      1105.38     24146         1        844   \n",
       "204425  2014-10-20T00:00:00Z      1059.66     13285         3       1785   \n",
       "204426  2015-08-18T00:00:00Z      3167.71     15167         4       1412   \n",
       "204427  2013-02-26T00:00:00Z      4930.51      9452        10         24   \n",
       "\n",
       "        item_total_price  unit_price  group_code  segment_code  is_churn  \n",
       "0                 292.91       25.04           0             0       0.0  \n",
       "1                 287.19       12.33           0             5       0.0  \n",
       "2                 184.84       12.80           0             0       0.0  \n",
       "3                 189.18       10.51           0             0       0.0  \n",
       "4                  66.87       11.82           0             0       0.0  \n",
       "...                  ...         ...         ...           ...       ...  \n",
       "204423            235.19       19.03           0             0       0.0  \n",
       "204424            100.81      100.81           0             0       0.0  \n",
       "204425             51.08       15.18           0             0       0.0  \n",
       "204426            230.32       50.56           0             0       0.0  \n",
       "204427             46.35        4.03           0             0       0.0  \n",
       "\n",
       "[204428 rows x 14 columns]"
      ]
     },
     "execution_count": 4,
     "metadata": {},
     "output_type": "execute_result"
    }
   ],
   "source": [
    "ambev"
   ]
  },
  {
   "cell_type": "code",
   "execution_count": 5,
   "metadata": {
    "ExecuteTime": {
     "end_time": "2021-03-26T17:05:57.315088Z",
     "start_time": "2021-03-26T17:05:57.193091Z"
    }
   },
   "outputs": [
    {
     "name": "stdout",
     "output_type": "stream",
     "text": [
      "<class 'pandas.core.frame.DataFrame'>\n",
      "RangeIndex: 204428 entries, 0 to 204427\n",
      "Data columns (total 14 columns):\n",
      " #   Column            Non-Null Count   Dtype  \n",
      "---  ------            --------------   -----  \n",
      " 0   customer_code     204428 non-null  int64  \n",
      " 1   branch_id         204428 non-null  int64  \n",
      " 2   sales_channel     204428 non-null  int64  \n",
      " 3   seller_code       204428 non-null  int64  \n",
      " 4   register_date     204428 non-null  object \n",
      " 5   total_price       204428 non-null  float64\n",
      " 6   order_id          204428 non-null  int64  \n",
      " 7   quantity          204428 non-null  int64  \n",
      " 8   item_code         204428 non-null  int64  \n",
      " 9   item_total_price  204428 non-null  float64\n",
      " 10  unit_price        204428 non-null  float64\n",
      " 11  group_code        204428 non-null  int64  \n",
      " 12  segment_code      204428 non-null  int64  \n",
      " 13  is_churn          202513 non-null  float64\n",
      "dtypes: float64(4), int64(9), object(1)\n",
      "memory usage: 21.8+ MB\n"
     ]
    }
   ],
   "source": [
    "ambev.info()"
   ]
  },
  {
   "cell_type": "markdown",
   "metadata": {},
   "source": [
    "Here’s the description of each column:\n",
    "\n",
    " customer_code: unique id of a customer;\n",
    "\n",
    " branch_id: the branch id where this order was made;\n",
    "\n",
    " sales_channel: the sales channel this order was made;\n",
    "\n",
    " seller_code: seller that made this order;\n",
    "\n",
    " register_date: date of the order;\n",
    "\n",
    " total_price: total price of the order (sum of all items);\n",
    "\n",
    " order_id: id of this order. A order is formed by a set of items;\n",
    "\n",
    " item_code: code of the item;\n",
    "\n",
    " quantity: quantity of items, given by item_code, were bought;\n",
    "\n",
    " item_total_price: total price of items, i.e., quantity* price;\n",
    "\n",
    " unit_price: unit price of this item;\n",
    "\n",
    " group_code: which group this customer belongs;\n",
    "\n",
    " segment_code: segment this client belongs;\n",
    "\n",
    " is_churn: True, if we believe the client will not come back. For a given customer_code this value is always the same, it means that \"today\" (the day you are doing this test) this client is a churn."
   ]
  },
  {
   "cell_type": "markdown",
   "metadata": {},
   "source": [
    "# Question 1 (10 Points):\n",
    "\n",
    "List as many use cases for the dataset as possible."
   ]
  },
  {
   "cell_type": "markdown",
   "metadata": {},
   "source": [
    "- We could make a top customers (customer_code) chart (in total_price, or count(order_id)) and understand what these customers buy (item_code) in order to market these products to others\n",
    "- We could make a recommendation model (memory-based) based on client taste similarity (\"collaborative filtering\") to match customers with similar taste and suggest each other products they haven't bought yet.\n",
    "- We could check the variation of sales (a boxplot) of each type of sales channel to see which channel is the busiest for selling (sales_channel and total_price)\n",
    "- We could check the sellers (seller_code) which have the highest churn rate (is_churn) so we could verify sellers who are not good for our business. We could also check the products related to those churn.\n",
    "- We could reclassify our clients according to their products based on a clustering model.\n",
    "-*__We could do a ML model to predict the churn customers that are missing in our database.__*"
   ]
  },
  {
   "cell_type": "markdown",
   "metadata": {},
   "source": [
    "# Question 2 (10 Points):\n",
    "\n",
    "Pick one of the use cases you listed in question 1 and describe how building a statistical model based on the dataset could best be used to improve the business this data comes from."
   ]
  },
  {
   "cell_type": "markdown",
   "metadata": {},
   "source": [
    "- We are going to pick the case where we want to train the model and predict if a client will be churn or not, since we have missing values on that column. This could help us identifying which customers we need to focus our client satisfaction program actions. With the classification done, we can check any correlations between the churn rate and variables present in the purchase (like identifying if customers who buy few items are more likely to be churn)."
   ]
  },
  {
   "cell_type": "markdown",
   "metadata": {},
   "source": [
    "# Question 3 (20 Points)\n",
    "\n",
    "Implement the model you described in question 2, preferably in Python. The code has to retrieve the data, train and test a statistical model, and report relevant performance criteria. Ideally, we should be able to replicate your analysis from your submitted source-code, so please explicit the versions of the tools and packages you are using."
   ]
  },
  {
   "cell_type": "markdown",
   "metadata": {},
   "source": [
    "## Data wrangling"
   ]
  },
  {
   "cell_type": "markdown",
   "metadata": {},
   "source": [
    "Checking for nulls and the data types."
   ]
  },
  {
   "cell_type": "code",
   "execution_count": 6,
   "metadata": {
    "ExecuteTime": {
     "end_time": "2021-03-26T17:05:57.347111Z",
     "start_time": "2021-03-26T17:05:57.318090Z"
    }
   },
   "outputs": [
    {
     "name": "stdout",
     "output_type": "stream",
     "text": [
      "<class 'pandas.core.frame.DataFrame'>\n",
      "RangeIndex: 204428 entries, 0 to 204427\n",
      "Data columns (total 14 columns):\n",
      " #   Column            Non-Null Count   Dtype  \n",
      "---  ------            --------------   -----  \n",
      " 0   customer_code     204428 non-null  int64  \n",
      " 1   branch_id         204428 non-null  int64  \n",
      " 2   sales_channel     204428 non-null  int64  \n",
      " 3   seller_code       204428 non-null  int64  \n",
      " 4   register_date     204428 non-null  object \n",
      " 5   total_price       204428 non-null  float64\n",
      " 6   order_id          204428 non-null  int64  \n",
      " 7   quantity          204428 non-null  int64  \n",
      " 8   item_code         204428 non-null  int64  \n",
      " 9   item_total_price  204428 non-null  float64\n",
      " 10  unit_price        204428 non-null  float64\n",
      " 11  group_code        204428 non-null  int64  \n",
      " 12  segment_code      204428 non-null  int64  \n",
      " 13  is_churn          202513 non-null  float64\n",
      "dtypes: float64(4), int64(9), object(1)\n",
      "memory usage: 21.8+ MB\n"
     ]
    }
   ],
   "source": [
    "ambev.info()"
   ]
  },
  {
   "cell_type": "markdown",
   "metadata": {},
   "source": [
    "- *__register_date__* is in format of object instead of *__datetime__*\n",
    "- *__is_churn__* is in float64 format instead of *__boolean__* (since there are two options)\n",
    "    - Yes: is churn, the client won't come back\n",
    "    - No: is not churn, the client will come back)\n",
    "- *__is_churn__* has some nulls"
   ]
  },
  {
   "cell_type": "code",
   "execution_count": 7,
   "metadata": {
    "ExecuteTime": {
     "end_time": "2021-03-26T17:05:57.537088Z",
     "start_time": "2021-03-26T17:05:57.350089Z"
    }
   },
   "outputs": [
    {
     "name": "stdout",
     "output_type": "stream",
     "text": [
      "0.0    163799\n",
      "1.0     38714\n",
      "Name: is_churn, dtype: int64\n",
      "float64\n"
     ]
    }
   ],
   "source": [
    "print(ambev['is_churn'].value_counts())\n",
    "print(ambev['is_churn'].dtype)"
   ]
  },
  {
   "cell_type": "markdown",
   "metadata": {},
   "source": [
    "Also there are only values 0 for the branch_id."
   ]
  },
  {
   "cell_type": "code",
   "execution_count": 8,
   "metadata": {
    "ExecuteTime": {
     "end_time": "2021-03-26T17:05:57.615515Z",
     "start_time": "2021-03-26T17:05:57.540088Z"
    }
   },
   "outputs": [
    {
     "data": {
      "text/plain": [
       "0    204428\n",
       "Name: branch_id, dtype: int64"
      ]
     },
     "execution_count": 8,
     "metadata": {},
     "output_type": "execute_result"
    }
   ],
   "source": [
    "ambev['branch_id'].value_counts()"
   ]
  },
  {
   "cell_type": "markdown",
   "metadata": {},
   "source": [
    "### *register_date* data type correction"
   ]
  },
  {
   "cell_type": "code",
   "execution_count": 9,
   "metadata": {
    "ExecuteTime": {
     "end_time": "2021-03-26T17:05:57.679519Z",
     "start_time": "2021-03-26T17:05:57.619517Z"
    }
   },
   "outputs": [
    {
     "data": {
      "text/plain": [
       "dtype('O')"
      ]
     },
     "execution_count": 9,
     "metadata": {},
     "output_type": "execute_result"
    }
   ],
   "source": [
    "ambev['register_date'].dtype"
   ]
  },
  {
   "cell_type": "code",
   "execution_count": 10,
   "metadata": {
    "ExecuteTime": {
     "end_time": "2021-03-26T17:05:58.186124Z",
     "start_time": "2021-03-26T17:05:57.681516Z"
    }
   },
   "outputs": [],
   "source": [
    "ambev['register_date'] = ambev['register_date'].astype('datetime64')"
   ]
  },
  {
   "cell_type": "code",
   "execution_count": 11,
   "metadata": {
    "ExecuteTime": {
     "end_time": "2021-03-26T17:05:58.356652Z",
     "start_time": "2021-03-26T17:05:58.189125Z"
    }
   },
   "outputs": [
    {
     "data": {
      "text/html": [
       "<div>\n",
       "<style scoped>\n",
       "    .dataframe tbody tr th:only-of-type {\n",
       "        vertical-align: middle;\n",
       "    }\n",
       "\n",
       "    .dataframe tbody tr th {\n",
       "        vertical-align: top;\n",
       "    }\n",
       "\n",
       "    .dataframe thead th {\n",
       "        text-align: right;\n",
       "    }\n",
       "</style>\n",
       "<table border=\"1\" class=\"dataframe\">\n",
       "  <thead>\n",
       "    <tr style=\"text-align: right;\">\n",
       "      <th></th>\n",
       "      <th>customer_code</th>\n",
       "      <th>branch_id</th>\n",
       "      <th>sales_channel</th>\n",
       "      <th>seller_code</th>\n",
       "      <th>register_date</th>\n",
       "      <th>total_price</th>\n",
       "      <th>order_id</th>\n",
       "      <th>quantity</th>\n",
       "      <th>item_code</th>\n",
       "      <th>item_total_price</th>\n",
       "      <th>unit_price</th>\n",
       "      <th>group_code</th>\n",
       "      <th>segment_code</th>\n",
       "      <th>is_churn</th>\n",
       "    </tr>\n",
       "  </thead>\n",
       "  <tbody>\n",
       "    <tr>\n",
       "      <th>0</th>\n",
       "      <td>143</td>\n",
       "      <td>0</td>\n",
       "      <td>0</td>\n",
       "      <td>190</td>\n",
       "      <td>2017-11-10</td>\n",
       "      <td>1613.53</td>\n",
       "      <td>21804</td>\n",
       "      <td>10</td>\n",
       "      <td>854</td>\n",
       "      <td>292.91</td>\n",
       "      <td>25.04</td>\n",
       "      <td>0</td>\n",
       "      <td>0</td>\n",
       "      <td>0.0</td>\n",
       "    </tr>\n",
       "    <tr>\n",
       "      <th>1</th>\n",
       "      <td>433</td>\n",
       "      <td>0</td>\n",
       "      <td>1</td>\n",
       "      <td>153</td>\n",
       "      <td>2011-05-16</td>\n",
       "      <td>11163.69</td>\n",
       "      <td>5486</td>\n",
       "      <td>20</td>\n",
       "      <td>246</td>\n",
       "      <td>287.19</td>\n",
       "      <td>12.33</td>\n",
       "      <td>0</td>\n",
       "      <td>5</td>\n",
       "      <td>0.0</td>\n",
       "    </tr>\n",
       "    <tr>\n",
       "      <th>2</th>\n",
       "      <td>486</td>\n",
       "      <td>0</td>\n",
       "      <td>0</td>\n",
       "      <td>166</td>\n",
       "      <td>2018-01-24</td>\n",
       "      <td>6432.12</td>\n",
       "      <td>22662</td>\n",
       "      <td>12</td>\n",
       "      <td>1420</td>\n",
       "      <td>184.84</td>\n",
       "      <td>12.80</td>\n",
       "      <td>0</td>\n",
       "      <td>0</td>\n",
       "      <td>0.0</td>\n",
       "    </tr>\n",
       "    <tr>\n",
       "      <th>3</th>\n",
       "      <td>107</td>\n",
       "      <td>0</td>\n",
       "      <td>1</td>\n",
       "      <td>156</td>\n",
       "      <td>2010-07-28</td>\n",
       "      <td>831.82</td>\n",
       "      <td>3956</td>\n",
       "      <td>18</td>\n",
       "      <td>1963</td>\n",
       "      <td>189.18</td>\n",
       "      <td>10.51</td>\n",
       "      <td>0</td>\n",
       "      <td>0</td>\n",
       "      <td>0.0</td>\n",
       "    </tr>\n",
       "    <tr>\n",
       "      <th>4</th>\n",
       "      <td>768</td>\n",
       "      <td>0</td>\n",
       "      <td>1</td>\n",
       "      <td>218</td>\n",
       "      <td>2010-12-17</td>\n",
       "      <td>1736.48</td>\n",
       "      <td>4730</td>\n",
       "      <td>5</td>\n",
       "      <td>1786</td>\n",
       "      <td>66.87</td>\n",
       "      <td>11.82</td>\n",
       "      <td>0</td>\n",
       "      <td>0</td>\n",
       "      <td>0.0</td>\n",
       "    </tr>\n",
       "    <tr>\n",
       "      <th>...</th>\n",
       "      <td>...</td>\n",
       "      <td>...</td>\n",
       "      <td>...</td>\n",
       "      <td>...</td>\n",
       "      <td>...</td>\n",
       "      <td>...</td>\n",
       "      <td>...</td>\n",
       "      <td>...</td>\n",
       "      <td>...</td>\n",
       "      <td>...</td>\n",
       "      <td>...</td>\n",
       "      <td>...</td>\n",
       "      <td>...</td>\n",
       "      <td>...</td>\n",
       "    </tr>\n",
       "    <tr>\n",
       "      <th>204423</th>\n",
       "      <td>141</td>\n",
       "      <td>0</td>\n",
       "      <td>0</td>\n",
       "      <td>78</td>\n",
       "      <td>2017-02-15</td>\n",
       "      <td>1481.02</td>\n",
       "      <td>18922</td>\n",
       "      <td>12</td>\n",
       "      <td>2624</td>\n",
       "      <td>235.19</td>\n",
       "      <td>19.03</td>\n",
       "      <td>0</td>\n",
       "      <td>0</td>\n",
       "      <td>0.0</td>\n",
       "    </tr>\n",
       "    <tr>\n",
       "      <th>204424</th>\n",
       "      <td>31</td>\n",
       "      <td>0</td>\n",
       "      <td>0</td>\n",
       "      <td>181</td>\n",
       "      <td>2018-05-23</td>\n",
       "      <td>1105.38</td>\n",
       "      <td>24146</td>\n",
       "      <td>1</td>\n",
       "      <td>844</td>\n",
       "      <td>100.81</td>\n",
       "      <td>100.81</td>\n",
       "      <td>0</td>\n",
       "      <td>0</td>\n",
       "      <td>0.0</td>\n",
       "    </tr>\n",
       "    <tr>\n",
       "      <th>204425</th>\n",
       "      <td>192</td>\n",
       "      <td>0</td>\n",
       "      <td>0</td>\n",
       "      <td>253</td>\n",
       "      <td>2014-10-20</td>\n",
       "      <td>1059.66</td>\n",
       "      <td>13285</td>\n",
       "      <td>3</td>\n",
       "      <td>1785</td>\n",
       "      <td>51.08</td>\n",
       "      <td>15.18</td>\n",
       "      <td>0</td>\n",
       "      <td>0</td>\n",
       "      <td>0.0</td>\n",
       "    </tr>\n",
       "    <tr>\n",
       "      <th>204426</th>\n",
       "      <td>687</td>\n",
       "      <td>0</td>\n",
       "      <td>0</td>\n",
       "      <td>190</td>\n",
       "      <td>2015-08-18</td>\n",
       "      <td>3167.71</td>\n",
       "      <td>15167</td>\n",
       "      <td>4</td>\n",
       "      <td>1412</td>\n",
       "      <td>230.32</td>\n",
       "      <td>50.56</td>\n",
       "      <td>0</td>\n",
       "      <td>0</td>\n",
       "      <td>0.0</td>\n",
       "    </tr>\n",
       "    <tr>\n",
       "      <th>204427</th>\n",
       "      <td>9</td>\n",
       "      <td>0</td>\n",
       "      <td>0</td>\n",
       "      <td>143</td>\n",
       "      <td>2013-02-26</td>\n",
       "      <td>4930.51</td>\n",
       "      <td>9452</td>\n",
       "      <td>10</td>\n",
       "      <td>24</td>\n",
       "      <td>46.35</td>\n",
       "      <td>4.03</td>\n",
       "      <td>0</td>\n",
       "      <td>0</td>\n",
       "      <td>0.0</td>\n",
       "    </tr>\n",
       "  </tbody>\n",
       "</table>\n",
       "<p>204428 rows × 14 columns</p>\n",
       "</div>"
      ],
      "text/plain": [
       "        customer_code  branch_id  sales_channel  seller_code register_date  \\\n",
       "0                 143          0              0          190    2017-11-10   \n",
       "1                 433          0              1          153    2011-05-16   \n",
       "2                 486          0              0          166    2018-01-24   \n",
       "3                 107          0              1          156    2010-07-28   \n",
       "4                 768          0              1          218    2010-12-17   \n",
       "...               ...        ...            ...          ...           ...   \n",
       "204423            141          0              0           78    2017-02-15   \n",
       "204424             31          0              0          181    2018-05-23   \n",
       "204425            192          0              0          253    2014-10-20   \n",
       "204426            687          0              0          190    2015-08-18   \n",
       "204427              9          0              0          143    2013-02-26   \n",
       "\n",
       "        total_price  order_id  quantity  item_code  item_total_price  \\\n",
       "0           1613.53     21804        10        854            292.91   \n",
       "1          11163.69      5486        20        246            287.19   \n",
       "2           6432.12     22662        12       1420            184.84   \n",
       "3            831.82      3956        18       1963            189.18   \n",
       "4           1736.48      4730         5       1786             66.87   \n",
       "...             ...       ...       ...        ...               ...   \n",
       "204423      1481.02     18922        12       2624            235.19   \n",
       "204424      1105.38     24146         1        844            100.81   \n",
       "204425      1059.66     13285         3       1785             51.08   \n",
       "204426      3167.71     15167         4       1412            230.32   \n",
       "204427      4930.51      9452        10         24             46.35   \n",
       "\n",
       "        unit_price  group_code  segment_code  is_churn  \n",
       "0            25.04           0             0       0.0  \n",
       "1            12.33           0             5       0.0  \n",
       "2            12.80           0             0       0.0  \n",
       "3            10.51           0             0       0.0  \n",
       "4            11.82           0             0       0.0  \n",
       "...            ...         ...           ...       ...  \n",
       "204423       19.03           0             0       0.0  \n",
       "204424      100.81           0             0       0.0  \n",
       "204425       15.18           0             0       0.0  \n",
       "204426       50.56           0             0       0.0  \n",
       "204427        4.03           0             0       0.0  \n",
       "\n",
       "[204428 rows x 14 columns]"
      ]
     },
     "execution_count": 11,
     "metadata": {},
     "output_type": "execute_result"
    }
   ],
   "source": [
    "ambev"
   ]
  },
  {
   "cell_type": "markdown",
   "metadata": {},
   "source": [
    "### Categorical columns to numerical values"
   ]
  },
  {
   "cell_type": "code",
   "execution_count": 12,
   "metadata": {
    "ExecuteTime": {
     "end_time": "2021-03-26T17:05:58.499439Z",
     "start_time": "2021-03-26T17:05:58.358652Z"
    }
   },
   "outputs": [],
   "source": [
    "#ambev['is_churn'] = ambev['is_churn'].astype('boolean')"
   ]
  },
  {
   "cell_type": "code",
   "execution_count": 13,
   "metadata": {
    "ExecuteTime": {
     "end_time": "2021-03-26T17:05:58.640438Z",
     "start_time": "2021-03-26T17:05:58.502438Z"
    }
   },
   "outputs": [],
   "source": [
    "ambev['is_churn_dummy'] = pd.get_dummies(data=ambev['is_churn'], drop_first=True)"
   ]
  },
  {
   "cell_type": "code",
   "execution_count": 14,
   "metadata": {
    "ExecuteTime": {
     "end_time": "2021-03-26T17:05:58.731438Z",
     "start_time": "2021-03-26T17:05:58.642437Z"
    }
   },
   "outputs": [
    {
     "data": {
      "text/html": [
       "<div>\n",
       "<style scoped>\n",
       "    .dataframe tbody tr th:only-of-type {\n",
       "        vertical-align: middle;\n",
       "    }\n",
       "\n",
       "    .dataframe tbody tr th {\n",
       "        vertical-align: top;\n",
       "    }\n",
       "\n",
       "    .dataframe thead th {\n",
       "        text-align: right;\n",
       "    }\n",
       "</style>\n",
       "<table border=\"1\" class=\"dataframe\">\n",
       "  <thead>\n",
       "    <tr style=\"text-align: right;\">\n",
       "      <th></th>\n",
       "      <th>customer_code</th>\n",
       "      <th>branch_id</th>\n",
       "      <th>sales_channel</th>\n",
       "      <th>seller_code</th>\n",
       "      <th>register_date</th>\n",
       "      <th>total_price</th>\n",
       "      <th>order_id</th>\n",
       "      <th>quantity</th>\n",
       "      <th>item_code</th>\n",
       "      <th>item_total_price</th>\n",
       "      <th>unit_price</th>\n",
       "      <th>group_code</th>\n",
       "      <th>segment_code</th>\n",
       "      <th>is_churn</th>\n",
       "      <th>is_churn_dummy</th>\n",
       "    </tr>\n",
       "  </thead>\n",
       "  <tbody>\n",
       "    <tr>\n",
       "      <th>0</th>\n",
       "      <td>143</td>\n",
       "      <td>0</td>\n",
       "      <td>0</td>\n",
       "      <td>190</td>\n",
       "      <td>2017-11-10</td>\n",
       "      <td>1613.53</td>\n",
       "      <td>21804</td>\n",
       "      <td>10</td>\n",
       "      <td>854</td>\n",
       "      <td>292.91</td>\n",
       "      <td>25.04</td>\n",
       "      <td>0</td>\n",
       "      <td>0</td>\n",
       "      <td>0.0</td>\n",
       "      <td>0</td>\n",
       "    </tr>\n",
       "    <tr>\n",
       "      <th>1</th>\n",
       "      <td>433</td>\n",
       "      <td>0</td>\n",
       "      <td>1</td>\n",
       "      <td>153</td>\n",
       "      <td>2011-05-16</td>\n",
       "      <td>11163.69</td>\n",
       "      <td>5486</td>\n",
       "      <td>20</td>\n",
       "      <td>246</td>\n",
       "      <td>287.19</td>\n",
       "      <td>12.33</td>\n",
       "      <td>0</td>\n",
       "      <td>5</td>\n",
       "      <td>0.0</td>\n",
       "      <td>0</td>\n",
       "    </tr>\n",
       "    <tr>\n",
       "      <th>2</th>\n",
       "      <td>486</td>\n",
       "      <td>0</td>\n",
       "      <td>0</td>\n",
       "      <td>166</td>\n",
       "      <td>2018-01-24</td>\n",
       "      <td>6432.12</td>\n",
       "      <td>22662</td>\n",
       "      <td>12</td>\n",
       "      <td>1420</td>\n",
       "      <td>184.84</td>\n",
       "      <td>12.80</td>\n",
       "      <td>0</td>\n",
       "      <td>0</td>\n",
       "      <td>0.0</td>\n",
       "      <td>0</td>\n",
       "    </tr>\n",
       "    <tr>\n",
       "      <th>3</th>\n",
       "      <td>107</td>\n",
       "      <td>0</td>\n",
       "      <td>1</td>\n",
       "      <td>156</td>\n",
       "      <td>2010-07-28</td>\n",
       "      <td>831.82</td>\n",
       "      <td>3956</td>\n",
       "      <td>18</td>\n",
       "      <td>1963</td>\n",
       "      <td>189.18</td>\n",
       "      <td>10.51</td>\n",
       "      <td>0</td>\n",
       "      <td>0</td>\n",
       "      <td>0.0</td>\n",
       "      <td>0</td>\n",
       "    </tr>\n",
       "    <tr>\n",
       "      <th>4</th>\n",
       "      <td>768</td>\n",
       "      <td>0</td>\n",
       "      <td>1</td>\n",
       "      <td>218</td>\n",
       "      <td>2010-12-17</td>\n",
       "      <td>1736.48</td>\n",
       "      <td>4730</td>\n",
       "      <td>5</td>\n",
       "      <td>1786</td>\n",
       "      <td>66.87</td>\n",
       "      <td>11.82</td>\n",
       "      <td>0</td>\n",
       "      <td>0</td>\n",
       "      <td>0.0</td>\n",
       "      <td>0</td>\n",
       "    </tr>\n",
       "    <tr>\n",
       "      <th>...</th>\n",
       "      <td>...</td>\n",
       "      <td>...</td>\n",
       "      <td>...</td>\n",
       "      <td>...</td>\n",
       "      <td>...</td>\n",
       "      <td>...</td>\n",
       "      <td>...</td>\n",
       "      <td>...</td>\n",
       "      <td>...</td>\n",
       "      <td>...</td>\n",
       "      <td>...</td>\n",
       "      <td>...</td>\n",
       "      <td>...</td>\n",
       "      <td>...</td>\n",
       "      <td>...</td>\n",
       "    </tr>\n",
       "    <tr>\n",
       "      <th>204423</th>\n",
       "      <td>141</td>\n",
       "      <td>0</td>\n",
       "      <td>0</td>\n",
       "      <td>78</td>\n",
       "      <td>2017-02-15</td>\n",
       "      <td>1481.02</td>\n",
       "      <td>18922</td>\n",
       "      <td>12</td>\n",
       "      <td>2624</td>\n",
       "      <td>235.19</td>\n",
       "      <td>19.03</td>\n",
       "      <td>0</td>\n",
       "      <td>0</td>\n",
       "      <td>0.0</td>\n",
       "      <td>0</td>\n",
       "    </tr>\n",
       "    <tr>\n",
       "      <th>204424</th>\n",
       "      <td>31</td>\n",
       "      <td>0</td>\n",
       "      <td>0</td>\n",
       "      <td>181</td>\n",
       "      <td>2018-05-23</td>\n",
       "      <td>1105.38</td>\n",
       "      <td>24146</td>\n",
       "      <td>1</td>\n",
       "      <td>844</td>\n",
       "      <td>100.81</td>\n",
       "      <td>100.81</td>\n",
       "      <td>0</td>\n",
       "      <td>0</td>\n",
       "      <td>0.0</td>\n",
       "      <td>0</td>\n",
       "    </tr>\n",
       "    <tr>\n",
       "      <th>204425</th>\n",
       "      <td>192</td>\n",
       "      <td>0</td>\n",
       "      <td>0</td>\n",
       "      <td>253</td>\n",
       "      <td>2014-10-20</td>\n",
       "      <td>1059.66</td>\n",
       "      <td>13285</td>\n",
       "      <td>3</td>\n",
       "      <td>1785</td>\n",
       "      <td>51.08</td>\n",
       "      <td>15.18</td>\n",
       "      <td>0</td>\n",
       "      <td>0</td>\n",
       "      <td>0.0</td>\n",
       "      <td>0</td>\n",
       "    </tr>\n",
       "    <tr>\n",
       "      <th>204426</th>\n",
       "      <td>687</td>\n",
       "      <td>0</td>\n",
       "      <td>0</td>\n",
       "      <td>190</td>\n",
       "      <td>2015-08-18</td>\n",
       "      <td>3167.71</td>\n",
       "      <td>15167</td>\n",
       "      <td>4</td>\n",
       "      <td>1412</td>\n",
       "      <td>230.32</td>\n",
       "      <td>50.56</td>\n",
       "      <td>0</td>\n",
       "      <td>0</td>\n",
       "      <td>0.0</td>\n",
       "      <td>0</td>\n",
       "    </tr>\n",
       "    <tr>\n",
       "      <th>204427</th>\n",
       "      <td>9</td>\n",
       "      <td>0</td>\n",
       "      <td>0</td>\n",
       "      <td>143</td>\n",
       "      <td>2013-02-26</td>\n",
       "      <td>4930.51</td>\n",
       "      <td>9452</td>\n",
       "      <td>10</td>\n",
       "      <td>24</td>\n",
       "      <td>46.35</td>\n",
       "      <td>4.03</td>\n",
       "      <td>0</td>\n",
       "      <td>0</td>\n",
       "      <td>0.0</td>\n",
       "      <td>0</td>\n",
       "    </tr>\n",
       "  </tbody>\n",
       "</table>\n",
       "<p>204428 rows × 15 columns</p>\n",
       "</div>"
      ],
      "text/plain": [
       "        customer_code  branch_id  sales_channel  seller_code register_date  \\\n",
       "0                 143          0              0          190    2017-11-10   \n",
       "1                 433          0              1          153    2011-05-16   \n",
       "2                 486          0              0          166    2018-01-24   \n",
       "3                 107          0              1          156    2010-07-28   \n",
       "4                 768          0              1          218    2010-12-17   \n",
       "...               ...        ...            ...          ...           ...   \n",
       "204423            141          0              0           78    2017-02-15   \n",
       "204424             31          0              0          181    2018-05-23   \n",
       "204425            192          0              0          253    2014-10-20   \n",
       "204426            687          0              0          190    2015-08-18   \n",
       "204427              9          0              0          143    2013-02-26   \n",
       "\n",
       "        total_price  order_id  quantity  item_code  item_total_price  \\\n",
       "0           1613.53     21804        10        854            292.91   \n",
       "1          11163.69      5486        20        246            287.19   \n",
       "2           6432.12     22662        12       1420            184.84   \n",
       "3            831.82      3956        18       1963            189.18   \n",
       "4           1736.48      4730         5       1786             66.87   \n",
       "...             ...       ...       ...        ...               ...   \n",
       "204423      1481.02     18922        12       2624            235.19   \n",
       "204424      1105.38     24146         1        844            100.81   \n",
       "204425      1059.66     13285         3       1785             51.08   \n",
       "204426      3167.71     15167         4       1412            230.32   \n",
       "204427      4930.51      9452        10         24             46.35   \n",
       "\n",
       "        unit_price  group_code  segment_code  is_churn  is_churn_dummy  \n",
       "0            25.04           0             0       0.0               0  \n",
       "1            12.33           0             5       0.0               0  \n",
       "2            12.80           0             0       0.0               0  \n",
       "3            10.51           0             0       0.0               0  \n",
       "4            11.82           0             0       0.0               0  \n",
       "...            ...         ...           ...       ...             ...  \n",
       "204423       19.03           0             0       0.0               0  \n",
       "204424      100.81           0             0       0.0               0  \n",
       "204425       15.18           0             0       0.0               0  \n",
       "204426       50.56           0             0       0.0               0  \n",
       "204427        4.03           0             0       0.0               0  \n",
       "\n",
       "[204428 rows x 15 columns]"
      ]
     },
     "execution_count": 14,
     "metadata": {},
     "output_type": "execute_result"
    }
   ],
   "source": [
    "ambev"
   ]
  },
  {
   "cell_type": "markdown",
   "metadata": {},
   "source": [
    "### *is_churn* nulls correction"
   ]
  },
  {
   "cell_type": "markdown",
   "metadata": {},
   "source": [
    "Checking under which conditions is_churn have null values, it seems that when clients from group_code == 3 and segment_code ==7 make purchases, they don't have is_churn."
   ]
  },
  {
   "cell_type": "code",
   "execution_count": 15,
   "metadata": {
    "ExecuteTime": {
     "end_time": "2021-03-26T17:05:58.856438Z",
     "start_time": "2021-03-26T17:05:58.733439Z"
    }
   },
   "outputs": [
    {
     "data": {
      "text/html": [
       "<div>\n",
       "<style scoped>\n",
       "    .dataframe tbody tr th:only-of-type {\n",
       "        vertical-align: middle;\n",
       "    }\n",
       "\n",
       "    .dataframe tbody tr th {\n",
       "        vertical-align: top;\n",
       "    }\n",
       "\n",
       "    .dataframe thead th {\n",
       "        text-align: right;\n",
       "    }\n",
       "</style>\n",
       "<table border=\"1\" class=\"dataframe\">\n",
       "  <thead>\n",
       "    <tr style=\"text-align: right;\">\n",
       "      <th></th>\n",
       "      <th>customer_code</th>\n",
       "      <th>branch_id</th>\n",
       "      <th>sales_channel</th>\n",
       "      <th>seller_code</th>\n",
       "      <th>register_date</th>\n",
       "      <th>total_price</th>\n",
       "      <th>order_id</th>\n",
       "      <th>quantity</th>\n",
       "      <th>item_code</th>\n",
       "      <th>item_total_price</th>\n",
       "      <th>unit_price</th>\n",
       "      <th>group_code</th>\n",
       "      <th>segment_code</th>\n",
       "      <th>is_churn</th>\n",
       "      <th>is_churn_dummy</th>\n",
       "    </tr>\n",
       "  </thead>\n",
       "  <tbody>\n",
       "    <tr>\n",
       "      <th>73</th>\n",
       "      <td>834</td>\n",
       "      <td>0</td>\n",
       "      <td>0</td>\n",
       "      <td>140</td>\n",
       "      <td>2014-09-30</td>\n",
       "      <td>966.87</td>\n",
       "      <td>13192</td>\n",
       "      <td>1</td>\n",
       "      <td>2790</td>\n",
       "      <td>22.31</td>\n",
       "      <td>22.31</td>\n",
       "      <td>3</td>\n",
       "      <td>7</td>\n",
       "      <td>NaN</td>\n",
       "      <td>0</td>\n",
       "    </tr>\n",
       "    <tr>\n",
       "      <th>78</th>\n",
       "      <td>792</td>\n",
       "      <td>0</td>\n",
       "      <td>0</td>\n",
       "      <td>101</td>\n",
       "      <td>2015-06-08</td>\n",
       "      <td>3053.39</td>\n",
       "      <td>14680</td>\n",
       "      <td>48</td>\n",
       "      <td>2630</td>\n",
       "      <td>783.36</td>\n",
       "      <td>16.32</td>\n",
       "      <td>3</td>\n",
       "      <td>7</td>\n",
       "      <td>NaN</td>\n",
       "      <td>0</td>\n",
       "    </tr>\n",
       "    <tr>\n",
       "      <th>241</th>\n",
       "      <td>721</td>\n",
       "      <td>0</td>\n",
       "      <td>0</td>\n",
       "      <td>182</td>\n",
       "      <td>2013-02-26</td>\n",
       "      <td>5074.97</td>\n",
       "      <td>9455</td>\n",
       "      <td>6</td>\n",
       "      <td>2673</td>\n",
       "      <td>70.75</td>\n",
       "      <td>11.59</td>\n",
       "      <td>3</td>\n",
       "      <td>7</td>\n",
       "      <td>NaN</td>\n",
       "      <td>0</td>\n",
       "    </tr>\n",
       "    <tr>\n",
       "      <th>315</th>\n",
       "      <td>529</td>\n",
       "      <td>0</td>\n",
       "      <td>0</td>\n",
       "      <td>83</td>\n",
       "      <td>2015-01-22</td>\n",
       "      <td>1664.96</td>\n",
       "      <td>13842</td>\n",
       "      <td>18</td>\n",
       "      <td>795</td>\n",
       "      <td>320.09</td>\n",
       "      <td>314.64</td>\n",
       "      <td>3</td>\n",
       "      <td>7</td>\n",
       "      <td>NaN</td>\n",
       "      <td>0</td>\n",
       "    </tr>\n",
       "    <tr>\n",
       "      <th>377</th>\n",
       "      <td>319</td>\n",
       "      <td>0</td>\n",
       "      <td>7</td>\n",
       "      <td>177</td>\n",
       "      <td>2017-09-01</td>\n",
       "      <td>828.94</td>\n",
       "      <td>20977</td>\n",
       "      <td>3</td>\n",
       "      <td>1763</td>\n",
       "      <td>119.64</td>\n",
       "      <td>39.20</td>\n",
       "      <td>3</td>\n",
       "      <td>7</td>\n",
       "      <td>NaN</td>\n",
       "      <td>0</td>\n",
       "    </tr>\n",
       "    <tr>\n",
       "      <th>...</th>\n",
       "      <td>...</td>\n",
       "      <td>...</td>\n",
       "      <td>...</td>\n",
       "      <td>...</td>\n",
       "      <td>...</td>\n",
       "      <td>...</td>\n",
       "      <td>...</td>\n",
       "      <td>...</td>\n",
       "      <td>...</td>\n",
       "      <td>...</td>\n",
       "      <td>...</td>\n",
       "      <td>...</td>\n",
       "      <td>...</td>\n",
       "      <td>...</td>\n",
       "      <td>...</td>\n",
       "    </tr>\n",
       "    <tr>\n",
       "      <th>203638</th>\n",
       "      <td>792</td>\n",
       "      <td>0</td>\n",
       "      <td>0</td>\n",
       "      <td>101</td>\n",
       "      <td>2015-02-18</td>\n",
       "      <td>3081.79</td>\n",
       "      <td>14005</td>\n",
       "      <td>18</td>\n",
       "      <td>795</td>\n",
       "      <td>279.00</td>\n",
       "      <td>279.00</td>\n",
       "      <td>3</td>\n",
       "      <td>7</td>\n",
       "      <td>NaN</td>\n",
       "      <td>0</td>\n",
       "    </tr>\n",
       "    <tr>\n",
       "      <th>203694</th>\n",
       "      <td>529</td>\n",
       "      <td>0</td>\n",
       "      <td>1</td>\n",
       "      <td>41</td>\n",
       "      <td>2012-05-07</td>\n",
       "      <td>2351.54</td>\n",
       "      <td>7624</td>\n",
       "      <td>1</td>\n",
       "      <td>532</td>\n",
       "      <td>126.43</td>\n",
       "      <td>124.28</td>\n",
       "      <td>3</td>\n",
       "      <td>7</td>\n",
       "      <td>NaN</td>\n",
       "      <td>0</td>\n",
       "    </tr>\n",
       "    <tr>\n",
       "      <th>204121</th>\n",
       "      <td>319</td>\n",
       "      <td>0</td>\n",
       "      <td>0</td>\n",
       "      <td>177</td>\n",
       "      <td>2017-07-10</td>\n",
       "      <td>1004.02</td>\n",
       "      <td>20307</td>\n",
       "      <td>4</td>\n",
       "      <td>1767</td>\n",
       "      <td>252.42</td>\n",
       "      <td>62.03</td>\n",
       "      <td>3</td>\n",
       "      <td>7</td>\n",
       "      <td>NaN</td>\n",
       "      <td>0</td>\n",
       "    </tr>\n",
       "    <tr>\n",
       "      <th>204240</th>\n",
       "      <td>16</td>\n",
       "      <td>0</td>\n",
       "      <td>6</td>\n",
       "      <td>150</td>\n",
       "      <td>2015-04-15</td>\n",
       "      <td>1564.63</td>\n",
       "      <td>14384</td>\n",
       "      <td>2</td>\n",
       "      <td>1785</td>\n",
       "      <td>29.84</td>\n",
       "      <td>14.92</td>\n",
       "      <td>3</td>\n",
       "      <td>7</td>\n",
       "      <td>NaN</td>\n",
       "      <td>0</td>\n",
       "    </tr>\n",
       "    <tr>\n",
       "      <th>204377</th>\n",
       "      <td>721</td>\n",
       "      <td>0</td>\n",
       "      <td>1</td>\n",
       "      <td>182</td>\n",
       "      <td>2012-03-27</td>\n",
       "      <td>5456.42</td>\n",
       "      <td>7394</td>\n",
       "      <td>6</td>\n",
       "      <td>652</td>\n",
       "      <td>83.32</td>\n",
       "      <td>13.65</td>\n",
       "      <td>3</td>\n",
       "      <td>7</td>\n",
       "      <td>NaN</td>\n",
       "      <td>0</td>\n",
       "    </tr>\n",
       "  </tbody>\n",
       "</table>\n",
       "<p>1915 rows × 15 columns</p>\n",
       "</div>"
      ],
      "text/plain": [
       "        customer_code  branch_id  sales_channel  seller_code register_date  \\\n",
       "73                834          0              0          140    2014-09-30   \n",
       "78                792          0              0          101    2015-06-08   \n",
       "241               721          0              0          182    2013-02-26   \n",
       "315               529          0              0           83    2015-01-22   \n",
       "377               319          0              7          177    2017-09-01   \n",
       "...               ...        ...            ...          ...           ...   \n",
       "203638            792          0              0          101    2015-02-18   \n",
       "203694            529          0              1           41    2012-05-07   \n",
       "204121            319          0              0          177    2017-07-10   \n",
       "204240             16          0              6          150    2015-04-15   \n",
       "204377            721          0              1          182    2012-03-27   \n",
       "\n",
       "        total_price  order_id  quantity  item_code  item_total_price  \\\n",
       "73           966.87     13192         1       2790             22.31   \n",
       "78          3053.39     14680        48       2630            783.36   \n",
       "241         5074.97      9455         6       2673             70.75   \n",
       "315         1664.96     13842        18        795            320.09   \n",
       "377          828.94     20977         3       1763            119.64   \n",
       "...             ...       ...       ...        ...               ...   \n",
       "203638      3081.79     14005        18        795            279.00   \n",
       "203694      2351.54      7624         1        532            126.43   \n",
       "204121      1004.02     20307         4       1767            252.42   \n",
       "204240      1564.63     14384         2       1785             29.84   \n",
       "204377      5456.42      7394         6        652             83.32   \n",
       "\n",
       "        unit_price  group_code  segment_code  is_churn  is_churn_dummy  \n",
       "73           22.31           3             7       NaN               0  \n",
       "78           16.32           3             7       NaN               0  \n",
       "241          11.59           3             7       NaN               0  \n",
       "315         314.64           3             7       NaN               0  \n",
       "377          39.20           3             7       NaN               0  \n",
       "...            ...         ...           ...       ...             ...  \n",
       "203638      279.00           3             7       NaN               0  \n",
       "203694      124.28           3             7       NaN               0  \n",
       "204121       62.03           3             7       NaN               0  \n",
       "204240       14.92           3             7       NaN               0  \n",
       "204377       13.65           3             7       NaN               0  \n",
       "\n",
       "[1915 rows x 15 columns]"
      ]
     },
     "execution_count": 15,
     "metadata": {},
     "output_type": "execute_result"
    }
   ],
   "source": [
    "ambev[ambev['is_churn'].isna()]"
   ]
  },
  {
   "cell_type": "markdown",
   "metadata": {},
   "source": [
    "We can confirm his by checking the value counts for both columns.\n",
    "\n",
    "Nulls are in data of group 3."
   ]
  },
  {
   "cell_type": "code",
   "execution_count": 16,
   "metadata": {
    "ExecuteTime": {
     "end_time": "2021-03-26T17:05:58.935439Z",
     "start_time": "2021-03-26T17:05:58.858438Z"
    }
   },
   "outputs": [
    {
     "data": {
      "text/plain": [
       "3    1915\n",
       "Name: group_code, dtype: int64"
      ]
     },
     "execution_count": 16,
     "metadata": {},
     "output_type": "execute_result"
    }
   ],
   "source": [
    "ambev[ambev['is_churn'].isna()]['group_code'].value_counts()"
   ]
  },
  {
   "cell_type": "markdown",
   "metadata": {},
   "source": [
    "There are no nulls outside of the group 3."
   ]
  },
  {
   "cell_type": "code",
   "execution_count": 17,
   "metadata": {
    "ExecuteTime": {
     "end_time": "2021-03-26T17:05:59.046435Z",
     "start_time": "2021-03-26T17:05:58.940439Z"
    }
   },
   "outputs": [
    {
     "data": {
      "text/plain": [
       "0    170164\n",
       "2     24703\n",
       "1      7646\n",
       "Name: group_code, dtype: int64"
      ]
     },
     "execution_count": 17,
     "metadata": {},
     "output_type": "execute_result"
    }
   ],
   "source": [
    "ambev[~ambev['is_churn'].isna()]['group_code'].value_counts()"
   ]
  },
  {
   "cell_type": "markdown",
   "metadata": {},
   "source": [
    "Nulls are in data of segment 7."
   ]
  },
  {
   "cell_type": "code",
   "execution_count": 18,
   "metadata": {
    "ExecuteTime": {
     "end_time": "2021-03-26T17:05:59.109435Z",
     "start_time": "2021-03-26T17:05:59.048438Z"
    }
   },
   "outputs": [
    {
     "data": {
      "text/plain": [
       "7    1915\n",
       "Name: segment_code, dtype: int64"
      ]
     },
     "execution_count": 18,
     "metadata": {},
     "output_type": "execute_result"
    }
   ],
   "source": [
    "ambev[ambev['is_churn'].isna()]['segment_code'].value_counts()"
   ]
  },
  {
   "cell_type": "markdown",
   "metadata": {},
   "source": [
    "There are no nulls outside of the segment 7."
   ]
  },
  {
   "cell_type": "code",
   "execution_count": 19,
   "metadata": {
    "ExecuteTime": {
     "end_time": "2021-03-26T17:05:59.328436Z",
     "start_time": "2021-03-26T17:05:59.111438Z"
    }
   },
   "outputs": [
    {
     "data": {
      "text/plain": [
       "0    150223\n",
       "2     24703\n",
       "5     10566\n",
       "3      7824\n",
       "4      4878\n",
       "1      2303\n",
       "6      2016\n",
       "Name: segment_code, dtype: int64"
      ]
     },
     "execution_count": 19,
     "metadata": {},
     "output_type": "execute_result"
    }
   ],
   "source": [
    "ambev[~ambev['is_churn'].isna()]['segment_code'].value_counts()"
   ]
  },
  {
   "cell_type": "markdown",
   "metadata": {},
   "source": [
    "### Two datasets: one for training and holdout, and another for is_churn prediction"
   ]
  },
  {
   "cell_type": "markdown",
   "metadata": {},
   "source": [
    "Let's separate our dataset into two datasets. One which we have data for is_churn and another one that we don't have."
   ]
  },
  {
   "cell_type": "code",
   "execution_count": 20,
   "metadata": {
    "ExecuteTime": {
     "end_time": "2021-03-26T17:05:59.391438Z",
     "start_time": "2021-03-26T17:05:59.330437Z"
    }
   },
   "outputs": [],
   "source": [
    "ambev_churn_non_available = ambev[ambev['is_churn'].isna()]"
   ]
  },
  {
   "cell_type": "code",
   "execution_count": 21,
   "metadata": {
    "ExecuteTime": {
     "end_time": "2021-03-26T17:05:59.547437Z",
     "start_time": "2021-03-26T17:05:59.393438Z"
    }
   },
   "outputs": [],
   "source": [
    "ambev_churn_available = ambev[~ambev['is_churn'].isna()]"
   ]
  },
  {
   "cell_type": "markdown",
   "metadata": {},
   "source": [
    "## Logistic regression\n",
    "Now that we cleaned the dataset and separated the ones we have is_churn and those we don't have, we can do the logistic regression with those we have is_churn.\n",
    "We will follow the following workflow:\n",
    "- Cross-validation: separate 80% of the data for training. Remaining 20% will be divided into 80%\\*20% test and 20%\\*20% validation.\n",
    "    - *train_test_split* method of *sklearn.mode_selection*\n",
    "    - use *stratify = y* and *test_size = 0,2*\n",
    "- Normalize the data\n",
    "- Import model and instantiate it\n",
    "- Fit the training data\n",
    "- Select which error is most relevant\n",
    "    - Type 1 or Type 2\n",
    "- Select a metric for the model evaluation\n",
    "- Analyze the coefficients (x and y) to identify the most relevant one"
   ]
  },
  {
   "cell_type": "code",
   "execution_count": 22,
   "metadata": {
    "ExecuteTime": {
     "end_time": "2021-03-26T17:05:59.892346Z",
     "start_time": "2021-03-26T17:05:59.549440Z"
    }
   },
   "outputs": [
    {
     "data": {
      "text/html": [
       "<div>\n",
       "<style scoped>\n",
       "    .dataframe tbody tr th:only-of-type {\n",
       "        vertical-align: middle;\n",
       "    }\n",
       "\n",
       "    .dataframe tbody tr th {\n",
       "        vertical-align: top;\n",
       "    }\n",
       "\n",
       "    .dataframe thead th {\n",
       "        text-align: right;\n",
       "    }\n",
       "</style>\n",
       "<table border=\"1\" class=\"dataframe\">\n",
       "  <thead>\n",
       "    <tr style=\"text-align: right;\">\n",
       "      <th></th>\n",
       "      <th>customer_code</th>\n",
       "      <th>branch_id</th>\n",
       "      <th>sales_channel</th>\n",
       "      <th>seller_code</th>\n",
       "      <th>total_price</th>\n",
       "      <th>order_id</th>\n",
       "      <th>quantity</th>\n",
       "      <th>item_code</th>\n",
       "      <th>item_total_price</th>\n",
       "      <th>unit_price</th>\n",
       "      <th>group_code</th>\n",
       "      <th>segment_code</th>\n",
       "      <th>is_churn</th>\n",
       "      <th>is_churn_dummy</th>\n",
       "    </tr>\n",
       "  </thead>\n",
       "  <tbody>\n",
       "    <tr>\n",
       "      <th>count</th>\n",
       "      <td>202513.000000</td>\n",
       "      <td>202513.0</td>\n",
       "      <td>202513.000000</td>\n",
       "      <td>202513.000000</td>\n",
       "      <td>202513.000000</td>\n",
       "      <td>202513.000000</td>\n",
       "      <td>202513.000000</td>\n",
       "      <td>202513.000000</td>\n",
       "      <td>202513.000000</td>\n",
       "      <td>202513.000000</td>\n",
       "      <td>202513.000000</td>\n",
       "      <td>202513.000000</td>\n",
       "      <td>202513.000000</td>\n",
       "      <td>202513.000000</td>\n",
       "    </tr>\n",
       "    <tr>\n",
       "      <th>mean</th>\n",
       "      <td>446.614963</td>\n",
       "      <td>0.0</td>\n",
       "      <td>1.766010</td>\n",
       "      <td>145.739696</td>\n",
       "      <td>5359.461460</td>\n",
       "      <td>12430.877242</td>\n",
       "      <td>12.353681</td>\n",
       "      <td>1437.736560</td>\n",
       "      <td>304.389862</td>\n",
       "      <td>47.438007</td>\n",
       "      <td>0.281720</td>\n",
       "      <td>0.788191</td>\n",
       "      <td>0.191168</td>\n",
       "      <td>0.191168</td>\n",
       "    </tr>\n",
       "    <tr>\n",
       "      <th>std</th>\n",
       "      <td>246.733513</td>\n",
       "      <td>0.0</td>\n",
       "      <td>2.936023</td>\n",
       "      <td>75.258148</td>\n",
       "      <td>21366.655475</td>\n",
       "      <td>6929.426518</td>\n",
       "      <td>53.524542</td>\n",
       "      <td>903.650915</td>\n",
       "      <td>1013.308355</td>\n",
       "      <td>145.700670</td>\n",
       "      <td>0.668072</td>\n",
       "      <td>1.507950</td>\n",
       "      <td>0.393222</td>\n",
       "      <td>0.393222</td>\n",
       "    </tr>\n",
       "    <tr>\n",
       "      <th>min</th>\n",
       "      <td>0.000000</td>\n",
       "      <td>0.0</td>\n",
       "      <td>0.000000</td>\n",
       "      <td>0.000000</td>\n",
       "      <td>0.010000</td>\n",
       "      <td>0.000000</td>\n",
       "      <td>1.000000</td>\n",
       "      <td>0.000000</td>\n",
       "      <td>0.000000</td>\n",
       "      <td>0.010000</td>\n",
       "      <td>0.000000</td>\n",
       "      <td>0.000000</td>\n",
       "      <td>0.000000</td>\n",
       "      <td>0.000000</td>\n",
       "    </tr>\n",
       "    <tr>\n",
       "      <th>25%</th>\n",
       "      <td>220.000000</td>\n",
       "      <td>0.0</td>\n",
       "      <td>0.000000</td>\n",
       "      <td>83.000000</td>\n",
       "      <td>1179.160000</td>\n",
       "      <td>6511.000000</td>\n",
       "      <td>3.000000</td>\n",
       "      <td>631.000000</td>\n",
       "      <td>79.600000</td>\n",
       "      <td>14.670000</td>\n",
       "      <td>0.000000</td>\n",
       "      <td>0.000000</td>\n",
       "      <td>0.000000</td>\n",
       "      <td>0.000000</td>\n",
       "    </tr>\n",
       "    <tr>\n",
       "      <th>50%</th>\n",
       "      <td>485.000000</td>\n",
       "      <td>0.0</td>\n",
       "      <td>0.000000</td>\n",
       "      <td>163.000000</td>\n",
       "      <td>2033.140000</td>\n",
       "      <td>12694.000000</td>\n",
       "      <td>6.000000</td>\n",
       "      <td>1455.000000</td>\n",
       "      <td>156.090000</td>\n",
       "      <td>21.770000</td>\n",
       "      <td>0.000000</td>\n",
       "      <td>0.000000</td>\n",
       "      <td>0.000000</td>\n",
       "      <td>0.000000</td>\n",
       "    </tr>\n",
       "    <tr>\n",
       "      <th>75%</th>\n",
       "      <td>650.000000</td>\n",
       "      <td>0.0</td>\n",
       "      <td>2.000000</td>\n",
       "      <td>196.000000</td>\n",
       "      <td>3604.640000</td>\n",
       "      <td>18262.000000</td>\n",
       "      <td>12.000000</td>\n",
       "      <td>2049.000000</td>\n",
       "      <td>293.730000</td>\n",
       "      <td>46.680000</td>\n",
       "      <td>0.000000</td>\n",
       "      <td>1.000000</td>\n",
       "      <td>0.000000</td>\n",
       "      <td>0.000000</td>\n",
       "    </tr>\n",
       "    <tr>\n",
       "      <th>max</th>\n",
       "      <td>837.000000</td>\n",
       "      <td>0.0</td>\n",
       "      <td>105.000000</td>\n",
       "      <td>289.000000</td>\n",
       "      <td>428976.460000</td>\n",
       "      <td>24617.000000</td>\n",
       "      <td>7000.000000</td>\n",
       "      <td>2980.000000</td>\n",
       "      <td>102951.110000</td>\n",
       "      <td>26280.000000</td>\n",
       "      <td>2.000000</td>\n",
       "      <td>6.000000</td>\n",
       "      <td>1.000000</td>\n",
       "      <td>1.000000</td>\n",
       "    </tr>\n",
       "  </tbody>\n",
       "</table>\n",
       "</div>"
      ],
      "text/plain": [
       "       customer_code  branch_id  sales_channel    seller_code    total_price  \\\n",
       "count  202513.000000   202513.0  202513.000000  202513.000000  202513.000000   \n",
       "mean      446.614963        0.0       1.766010     145.739696    5359.461460   \n",
       "std       246.733513        0.0       2.936023      75.258148   21366.655475   \n",
       "min         0.000000        0.0       0.000000       0.000000       0.010000   \n",
       "25%       220.000000        0.0       0.000000      83.000000    1179.160000   \n",
       "50%       485.000000        0.0       0.000000     163.000000    2033.140000   \n",
       "75%       650.000000        0.0       2.000000     196.000000    3604.640000   \n",
       "max       837.000000        0.0     105.000000     289.000000  428976.460000   \n",
       "\n",
       "            order_id       quantity      item_code  item_total_price  \\\n",
       "count  202513.000000  202513.000000  202513.000000     202513.000000   \n",
       "mean    12430.877242      12.353681    1437.736560        304.389862   \n",
       "std      6929.426518      53.524542     903.650915       1013.308355   \n",
       "min         0.000000       1.000000       0.000000          0.000000   \n",
       "25%      6511.000000       3.000000     631.000000         79.600000   \n",
       "50%     12694.000000       6.000000    1455.000000        156.090000   \n",
       "75%     18262.000000      12.000000    2049.000000        293.730000   \n",
       "max     24617.000000    7000.000000    2980.000000     102951.110000   \n",
       "\n",
       "          unit_price     group_code   segment_code       is_churn  \\\n",
       "count  202513.000000  202513.000000  202513.000000  202513.000000   \n",
       "mean       47.438007       0.281720       0.788191       0.191168   \n",
       "std       145.700670       0.668072       1.507950       0.393222   \n",
       "min         0.010000       0.000000       0.000000       0.000000   \n",
       "25%        14.670000       0.000000       0.000000       0.000000   \n",
       "50%        21.770000       0.000000       0.000000       0.000000   \n",
       "75%        46.680000       0.000000       1.000000       0.000000   \n",
       "max     26280.000000       2.000000       6.000000       1.000000   \n",
       "\n",
       "       is_churn_dummy  \n",
       "count   202513.000000  \n",
       "mean         0.191168  \n",
       "std          0.393222  \n",
       "min          0.000000  \n",
       "25%          0.000000  \n",
       "50%          0.000000  \n",
       "75%          0.000000  \n",
       "max          1.000000  "
      ]
     },
     "execution_count": 22,
     "metadata": {},
     "output_type": "execute_result"
    }
   ],
   "source": [
    "ambev_churn_available.describe()"
   ]
  },
  {
   "cell_type": "code",
   "execution_count": 23,
   "metadata": {
    "ExecuteTime": {
     "end_time": "2021-03-26T17:06:00.691637Z",
     "start_time": "2021-03-26T17:05:59.897345Z"
    }
   },
   "outputs": [
    {
     "data": {
      "text/plain": [
       "<AxesSubplot:ylabel='total_price'>"
      ]
     },
     "execution_count": 23,
     "metadata": {},
     "output_type": "execute_result"
    },
    {
     "data": {
      "image/png": "[encoded data removed]",
      "text/plain": [
       "<Figure size 432x288 with 1 Axes>"
      ]
     },
     "metadata": {
      "needs_background": "light"
     },
     "output_type": "display_data"
    }
   ],
   "source": [
    "sns.boxplot(y='total_price', data=ambev_churn_available)"
   ]
  },
  {
   "cell_type": "markdown",
   "metadata": {},
   "source": [
    "### Checking whether our dataset is balanced or unbalanced\n",
    "From inspection, we can tell our dataset is unbalanced. We have too many Falses.\n",
    "\n",
    "We will have to stratify it (include the argument stratify) in our train_test_split method below."
   ]
  },
  {
   "cell_type": "code",
   "execution_count": 24,
   "metadata": {
    "ExecuteTime": {
     "end_time": "2021-03-26T17:06:00.707659Z",
     "start_time": "2021-03-26T17:06:00.694639Z"
    }
   },
   "outputs": [
    {
     "data": {
      "text/plain": [
       "0    163799\n",
       "1     38714\n",
       "Name: is_churn_dummy, dtype: int64"
      ]
     },
     "execution_count": 24,
     "metadata": {},
     "output_type": "execute_result"
    }
   ],
   "source": [
    "ambev_churn_available['is_churn_dummy'].value_counts()"
   ]
  },
  {
   "cell_type": "markdown",
   "metadata": {},
   "source": [
    "### Feature selection"
   ]
  },
  {
   "cell_type": "markdown",
   "metadata": {},
   "source": [
    "#### Correlation between possible features"
   ]
  },
  {
   "cell_type": "markdown",
   "metadata": {},
   "source": [
    "We previously noted that branch_id has only 0 values, so we will (kind of) drop it."
   ]
  },
  {
   "cell_type": "code",
   "execution_count": 25,
   "metadata": {
    "ExecuteTime": {
     "end_time": "2021-03-26T17:06:00.815634Z",
     "start_time": "2021-03-26T17:06:00.709638Z"
    }
   },
   "outputs": [],
   "source": [
    "ambev_churn_available = ambev_churn_available.loc[:,ambev_churn_available.columns!='branch_id']"
   ]
  },
  {
   "cell_type": "markdown",
   "metadata": {},
   "source": [
    "Plotting the correlation in a table and a chart:"
   ]
  },
  {
   "cell_type": "code",
   "execution_count": 26,
   "metadata": {
    "ExecuteTime": {
     "end_time": "2021-03-26T17:06:01.113967Z",
     "start_time": "2021-03-26T17:06:00.817638Z"
    }
   },
   "outputs": [
    {
     "data": {
      "text/html": [
       "<div>\n",
       "<style scoped>\n",
       "    .dataframe tbody tr th:only-of-type {\n",
       "        vertical-align: middle;\n",
       "    }\n",
       "\n",
       "    .dataframe tbody tr th {\n",
       "        vertical-align: top;\n",
       "    }\n",
       "\n",
       "    .dataframe thead th {\n",
       "        text-align: right;\n",
       "    }\n",
       "</style>\n",
       "<table border=\"1\" class=\"dataframe\">\n",
       "  <thead>\n",
       "    <tr style=\"text-align: right;\">\n",
       "      <th></th>\n",
       "      <th>customer_code</th>\n",
       "      <th>sales_channel</th>\n",
       "      <th>seller_code</th>\n",
       "      <th>total_price</th>\n",
       "      <th>order_id</th>\n",
       "      <th>quantity</th>\n",
       "      <th>item_code</th>\n",
       "      <th>item_total_price</th>\n",
       "      <th>unit_price</th>\n",
       "      <th>group_code</th>\n",
       "      <th>segment_code</th>\n",
       "      <th>is_churn</th>\n",
       "      <th>is_churn_dummy</th>\n",
       "    </tr>\n",
       "  </thead>\n",
       "  <tbody>\n",
       "    <tr>\n",
       "      <th>customer_code</th>\n",
       "      <td>1.000000</td>\n",
       "      <td>0.013233</td>\n",
       "      <td>0.061865</td>\n",
       "      <td>0.091020</td>\n",
       "      <td>-0.092976</td>\n",
       "      <td>0.040072</td>\n",
       "      <td>-0.018868</td>\n",
       "      <td>0.039972</td>\n",
       "      <td>-0.006798</td>\n",
       "      <td>-0.025257</td>\n",
       "      <td>0.003977</td>\n",
       "      <td>0.014126</td>\n",
       "      <td>0.014126</td>\n",
       "    </tr>\n",
       "    <tr>\n",
       "      <th>sales_channel</th>\n",
       "      <td>0.013233</td>\n",
       "      <td>1.000000</td>\n",
       "      <td>0.198949</td>\n",
       "      <td>-0.084678</td>\n",
       "      <td>-0.189216</td>\n",
       "      <td>-0.021591</td>\n",
       "      <td>-0.005410</td>\n",
       "      <td>-0.047200</td>\n",
       "      <td>-0.027199</td>\n",
       "      <td>0.339710</td>\n",
       "      <td>0.035908</td>\n",
       "      <td>0.174574</td>\n",
       "      <td>0.174574</td>\n",
       "    </tr>\n",
       "    <tr>\n",
       "      <th>seller_code</th>\n",
       "      <td>0.061865</td>\n",
       "      <td>0.198949</td>\n",
       "      <td>1.000000</td>\n",
       "      <td>0.013414</td>\n",
       "      <td>-0.078934</td>\n",
       "      <td>0.016409</td>\n",
       "      <td>0.002271</td>\n",
       "      <td>0.016682</td>\n",
       "      <td>-0.002256</td>\n",
       "      <td>0.177283</td>\n",
       "      <td>0.139810</td>\n",
       "      <td>0.083958</td>\n",
       "      <td>0.083958</td>\n",
       "    </tr>\n",
       "    <tr>\n",
       "      <th>total_price</th>\n",
       "      <td>0.091020</td>\n",
       "      <td>-0.084678</td>\n",
       "      <td>0.013414</td>\n",
       "      <td>1.000000</td>\n",
       "      <td>0.068231</td>\n",
       "      <td>0.364798</td>\n",
       "      <td>0.002420</td>\n",
       "      <td>0.403057</td>\n",
       "      <td>0.036117</td>\n",
       "      <td>0.098147</td>\n",
       "      <td>0.197388</td>\n",
       "      <td>0.225919</td>\n",
       "      <td>0.225919</td>\n",
       "    </tr>\n",
       "    <tr>\n",
       "      <th>order_id</th>\n",
       "      <td>-0.092976</td>\n",
       "      <td>-0.189216</td>\n",
       "      <td>-0.078934</td>\n",
       "      <td>0.068231</td>\n",
       "      <td>1.000000</td>\n",
       "      <td>0.013720</td>\n",
       "      <td>0.039807</td>\n",
       "      <td>0.033266</td>\n",
       "      <td>0.027292</td>\n",
       "      <td>0.030856</td>\n",
       "      <td>0.054439</td>\n",
       "      <td>0.003286</td>\n",
       "      <td>0.003286</td>\n",
       "    </tr>\n",
       "    <tr>\n",
       "      <th>quantity</th>\n",
       "      <td>0.040072</td>\n",
       "      <td>-0.021591</td>\n",
       "      <td>0.016409</td>\n",
       "      <td>0.364798</td>\n",
       "      <td>0.013720</td>\n",
       "      <td>1.000000</td>\n",
       "      <td>0.023965</td>\n",
       "      <td>0.812991</td>\n",
       "      <td>0.071001</td>\n",
       "      <td>0.067211</td>\n",
       "      <td>0.102642</td>\n",
       "      <td>0.127041</td>\n",
       "      <td>0.127041</td>\n",
       "    </tr>\n",
       "    <tr>\n",
       "      <th>item_code</th>\n",
       "      <td>-0.018868</td>\n",
       "      <td>-0.005410</td>\n",
       "      <td>0.002271</td>\n",
       "      <td>0.002420</td>\n",
       "      <td>0.039807</td>\n",
       "      <td>0.023965</td>\n",
       "      <td>1.000000</td>\n",
       "      <td>0.019297</td>\n",
       "      <td>-0.019215</td>\n",
       "      <td>-0.085219</td>\n",
       "      <td>-0.013839</td>\n",
       "      <td>-0.046554</td>\n",
       "      <td>-0.046554</td>\n",
       "    </tr>\n",
       "    <tr>\n",
       "      <th>item_total_price</th>\n",
       "      <td>0.039972</td>\n",
       "      <td>-0.047200</td>\n",
       "      <td>0.016682</td>\n",
       "      <td>0.403057</td>\n",
       "      <td>0.033266</td>\n",
       "      <td>0.812991</td>\n",
       "      <td>0.019297</td>\n",
       "      <td>1.000000</td>\n",
       "      <td>0.143332</td>\n",
       "      <td>0.047220</td>\n",
       "      <td>0.117507</td>\n",
       "      <td>0.133185</td>\n",
       "      <td>0.133185</td>\n",
       "    </tr>\n",
       "    <tr>\n",
       "      <th>unit_price</th>\n",
       "      <td>-0.006798</td>\n",
       "      <td>-0.027199</td>\n",
       "      <td>-0.002256</td>\n",
       "      <td>0.036117</td>\n",
       "      <td>0.027292</td>\n",
       "      <td>0.071001</td>\n",
       "      <td>-0.019215</td>\n",
       "      <td>0.143332</td>\n",
       "      <td>1.000000</td>\n",
       "      <td>0.008519</td>\n",
       "      <td>0.040357</td>\n",
       "      <td>0.054271</td>\n",
       "      <td>0.054271</td>\n",
       "    </tr>\n",
       "    <tr>\n",
       "      <th>group_code</th>\n",
       "      <td>-0.025257</td>\n",
       "      <td>0.339710</td>\n",
       "      <td>0.177283</td>\n",
       "      <td>0.098147</td>\n",
       "      <td>0.030856</td>\n",
       "      <td>0.067211</td>\n",
       "      <td>-0.085219</td>\n",
       "      <td>0.047220</td>\n",
       "      <td>0.008519</td>\n",
       "      <td>1.000000</td>\n",
       "      <td>0.376356</td>\n",
       "      <td>0.710854</td>\n",
       "      <td>0.710854</td>\n",
       "    </tr>\n",
       "    <tr>\n",
       "      <th>segment_code</th>\n",
       "      <td>0.003977</td>\n",
       "      <td>0.035908</td>\n",
       "      <td>0.139810</td>\n",
       "      <td>0.197388</td>\n",
       "      <td>0.054439</td>\n",
       "      <td>0.102642</td>\n",
       "      <td>-0.013839</td>\n",
       "      <td>0.117507</td>\n",
       "      <td>0.040357</td>\n",
       "      <td>0.376356</td>\n",
       "      <td>1.000000</td>\n",
       "      <td>0.377036</td>\n",
       "      <td>0.377036</td>\n",
       "    </tr>\n",
       "    <tr>\n",
       "      <th>is_churn</th>\n",
       "      <td>0.014126</td>\n",
       "      <td>0.174574</td>\n",
       "      <td>0.083958</td>\n",
       "      <td>0.225919</td>\n",
       "      <td>0.003286</td>\n",
       "      <td>0.127041</td>\n",
       "      <td>-0.046554</td>\n",
       "      <td>0.133185</td>\n",
       "      <td>0.054271</td>\n",
       "      <td>0.710854</td>\n",
       "      <td>0.377036</td>\n",
       "      <td>1.000000</td>\n",
       "      <td>1.000000</td>\n",
       "    </tr>\n",
       "    <tr>\n",
       "      <th>is_churn_dummy</th>\n",
       "      <td>0.014126</td>\n",
       "      <td>0.174574</td>\n",
       "      <td>0.083958</td>\n",
       "      <td>0.225919</td>\n",
       "      <td>0.003286</td>\n",
       "      <td>0.127041</td>\n",
       "      <td>-0.046554</td>\n",
       "      <td>0.133185</td>\n",
       "      <td>0.054271</td>\n",
       "      <td>0.710854</td>\n",
       "      <td>0.377036</td>\n",
       "      <td>1.000000</td>\n",
       "      <td>1.000000</td>\n",
       "    </tr>\n",
       "  </tbody>\n",
       "</table>\n",
       "</div>"
      ],
      "text/plain": [
       "                  customer_code  sales_channel  seller_code  total_price  \\\n",
       "customer_code          1.000000       0.013233     0.061865     0.091020   \n",
       "sales_channel          0.013233       1.000000     0.198949    -0.084678   \n",
       "seller_code            0.061865       0.198949     1.000000     0.013414   \n",
       "total_price            0.091020      -0.084678     0.013414     1.000000   \n",
       "order_id              -0.092976      -0.189216    -0.078934     0.068231   \n",
       "quantity               0.040072      -0.021591     0.016409     0.364798   \n",
       "item_code             -0.018868      -0.005410     0.002271     0.002420   \n",
       "item_total_price       0.039972      -0.047200     0.016682     0.403057   \n",
       "unit_price            -0.006798      -0.027199    -0.002256     0.036117   \n",
       "group_code            -0.025257       0.339710     0.177283     0.098147   \n",
       "segment_code           0.003977       0.035908     0.139810     0.197388   \n",
       "is_churn               0.014126       0.174574     0.083958     0.225919   \n",
       "is_churn_dummy         0.014126       0.174574     0.083958     0.225919   \n",
       "\n",
       "                  order_id  quantity  item_code  item_total_price  unit_price  \\\n",
       "customer_code    -0.092976  0.040072  -0.018868          0.039972   -0.006798   \n",
       "sales_channel    -0.189216 -0.021591  -0.005410         -0.047200   -0.027199   \n",
       "seller_code      -0.078934  0.016409   0.002271          0.016682   -0.002256   \n",
       "total_price       0.068231  0.364798   0.002420          0.403057    0.036117   \n",
       "order_id          1.000000  0.013720   0.039807          0.033266    0.027292   \n",
       "quantity          0.013720  1.000000   0.023965          0.812991    0.071001   \n",
       "item_code         0.039807  0.023965   1.000000          0.019297   -0.019215   \n",
       "item_total_price  0.033266  0.812991   0.019297          1.000000    0.143332   \n",
       "unit_price        0.027292  0.071001  -0.019215          0.143332    1.000000   \n",
       "group_code        0.030856  0.067211  -0.085219          0.047220    0.008519   \n",
       "segment_code      0.054439  0.102642  -0.013839          0.117507    0.040357   \n",
       "is_churn          0.003286  0.127041  -0.046554          0.133185    0.054271   \n",
       "is_churn_dummy    0.003286  0.127041  -0.046554          0.133185    0.054271   \n",
       "\n",
       "                  group_code  segment_code  is_churn  is_churn_dummy  \n",
       "customer_code      -0.025257      0.003977  0.014126        0.014126  \n",
       "sales_channel       0.339710      0.035908  0.174574        0.174574  \n",
       "seller_code         0.177283      0.139810  0.083958        0.083958  \n",
       "total_price         0.098147      0.197388  0.225919        0.225919  \n",
       "order_id            0.030856      0.054439  0.003286        0.003286  \n",
       "quantity            0.067211      0.102642  0.127041        0.127041  \n",
       "item_code          -0.085219     -0.013839 -0.046554       -0.046554  \n",
       "item_total_price    0.047220      0.117507  0.133185        0.133185  \n",
       "unit_price          0.008519      0.040357  0.054271        0.054271  \n",
       "group_code          1.000000      0.376356  0.710854        0.710854  \n",
       "segment_code        0.376356      1.000000  0.377036        0.377036  \n",
       "is_churn            0.710854      0.377036  1.000000        1.000000  \n",
       "is_churn_dummy      0.710854      0.377036  1.000000        1.000000  "
      ]
     },
     "execution_count": 26,
     "metadata": {},
     "output_type": "execute_result"
    }
   ],
   "source": [
    "ambev_churn_available.corr()"
   ]
  },
  {
   "cell_type": "code",
   "execution_count": 27,
   "metadata": {
    "ExecuteTime": {
     "end_time": "2021-03-26T17:06:02.078184Z",
     "start_time": "2021-03-26T17:06:01.115967Z"
    }
   },
   "outputs": [
    {
     "data": {
      "text/plain": [
       "<AxesSubplot:>"
      ]
     },
     "execution_count": 27,
     "metadata": {},
     "output_type": "execute_result"
    },
    {
     "data": {
      "image/png": "[encoded data removed]",
      "text/plain": [
       "<Figure size 792x648 with 2 Axes>"
      ]
     },
     "metadata": {},
     "output_type": "display_data"
    }
   ],
   "source": [
    "sns.set_theme(style=\"white\")\n",
    "\n",
    "# Compute the correlation matrix\n",
    "corr = ambev_churn_available.corr()\n",
    "\n",
    "# Generate a mask for the upper triangle\n",
    "mask = np.triu(np.ones_like(corr, dtype=bool))\n",
    "\n",
    "# Set up the matplotlib figure\n",
    "f, ax = plt.subplots(figsize=(11, 9))\n",
    "\n",
    "# Generate a custom diverging colormap\n",
    "cmap = sns.diverging_palette(230, 20, as_cmap=True)\n",
    "\n",
    "# Draw the heatmap with the mask and correct aspect ratio\n",
    "sns.heatmap(corr, mask=mask, cmap=cmap, vmax=.3, center=0,\n",
    "            square=True, linewidths=.5, cbar_kws={\"shrink\": .5})"
   ]
  },
  {
   "cell_type": "markdown",
   "metadata": {},
   "source": [
    "We noticed some strong correlations:\n",
    "- *total_price* and *item_total_price*, which is expected since the higher the total value of a product, the higher the total purchase\n",
    "- *quantity* and *item_total_price* which is expected since the higher amount of the same product, the higher its total value on the order\n",
    "- *quantity* and *total_price* which is expected since the more you buy, the higher the total value of the order\n",
    "- *segment_code* and *group_code* which means that some segments have unique groups.\n",
    "\n",
    "Some interesting correlations that we don't know why:\n",
    "- *group_code* and *sales_channel*\n",
    "- *seller_code* and *sales_channel*\n",
    "- *order_id* and *sales_channel*\n",
    "\n",
    "Correlations that we can identify as important to predict is_churn in our logistic regression:\n",
    "- *group_code* and *segment_code* have strong correlation to *is_churn* / is_churn_dummy\n",
    "- *total_price* have a slight correlation to *is_churn* / *is_churn_dummy"
   ]
  },
  {
   "cell_type": "markdown",
   "metadata": {},
   "source": [
    "#### Selected features\n",
    "By the correlation map, we could suggest that *group_code*, *segment_code* and *total_price* are more relevant to determine *is_churn*. However, we don't have data to train on the *group_code* and *segment_code* related to the missing *is_churn* rows. We will have to start with *total_price* only."
   ]
  },
  {
   "cell_type": "code",
   "execution_count": 106,
   "metadata": {
    "ExecuteTime": {
     "end_time": "2021-03-26T18:17:13.776852Z",
     "start_time": "2021-03-26T18:17:13.769856Z"
    }
   },
   "outputs": [],
   "source": [
    "X = ambev_churn_available[['total_price','group_code','segment_code']]\n",
    "y = ambev_churn_available['is_churn_dummy']"
   ]
  },
  {
   "cell_type": "code",
   "execution_count": 107,
   "metadata": {
    "ExecuteTime": {
     "end_time": "2021-03-26T18:17:14.792689Z",
     "start_time": "2021-03-26T18:17:14.776676Z"
    }
   },
   "outputs": [
    {
     "data": {
      "text/plain": [
       "607539"
      ]
     },
     "execution_count": 107,
     "metadata": {},
     "output_type": "execute_result"
    }
   ],
   "source": [
    "X.size"
   ]
  },
  {
   "cell_type": "code",
   "execution_count": 108,
   "metadata": {
    "ExecuteTime": {
     "end_time": "2021-03-26T18:17:15.169688Z",
     "start_time": "2021-03-26T18:17:15.161674Z"
    }
   },
   "outputs": [
    {
     "data": {
      "text/plain": [
       "202513"
      ]
     },
     "execution_count": 108,
     "metadata": {},
     "output_type": "execute_result"
    }
   ],
   "source": [
    "y.size"
   ]
  },
  {
   "cell_type": "markdown",
   "metadata": {},
   "source": [
    "### Standardizing"
   ]
  },
  {
   "cell_type": "code",
   "execution_count": 109,
   "metadata": {
    "ExecuteTime": {
     "end_time": "2021-03-26T18:17:16.191455Z",
     "start_time": "2021-03-26T18:17:16.177441Z"
    }
   },
   "outputs": [],
   "source": [
    "scaler = StandardScaler() #instantiating"
   ]
  },
  {
   "cell_type": "code",
   "execution_count": 110,
   "metadata": {
    "ExecuteTime": {
     "end_time": "2021-03-26T18:17:16.634687Z",
     "start_time": "2021-03-26T18:17:16.601674Z"
    }
   },
   "outputs": [
    {
     "data": {
      "text/plain": [
       "StandardScaler()"
      ]
     },
     "execution_count": 110,
     "metadata": {},
     "output_type": "execute_result"
    }
   ],
   "source": [
    "scaler.fit(X)"
   ]
  },
  {
   "cell_type": "code",
   "execution_count": 111,
   "metadata": {
    "ExecuteTime": {
     "end_time": "2021-03-26T18:17:18.834858Z",
     "start_time": "2021-03-26T18:17:18.816860Z"
    }
   },
   "outputs": [],
   "source": [
    "X_std = scaler.transform(X)"
   ]
  },
  {
   "cell_type": "markdown",
   "metadata": {},
   "source": [
    "### Holdout\n",
    "Since we have a very large dataset and we are going for an initial modeling step, we will choose a holdout strategy. Later on, if needed, we will analyze a cross-validation. Cross validations are computational intensive and it doesn't make too much sense using them if we don't know how accurate our first model is yet."
   ]
  },
  {
   "cell_type": "markdown",
   "metadata": {},
   "source": [
    "Creating our validation strategy, we will divide our dataset into the data to train and the data to validate:"
   ]
  },
  {
   "cell_type": "code",
   "execution_count": 112,
   "metadata": {
    "ExecuteTime": {
     "end_time": "2021-03-26T18:17:25.877867Z",
     "start_time": "2021-03-26T18:17:25.769887Z"
    }
   },
   "outputs": [],
   "source": [
    "# split the data into two groups, 20% for validation and 80% for training\n",
    "# also we will stratify it as in y, since we have unbalanced sets and we don't want to risk separating only Yes or Nos to one of the groups.\n",
    "X_train, X_test, y_train, y_test = train_test_split(X_std, y, random_state=0, test_size=0.2, stratify=y)"
   ]
  },
  {
   "cell_type": "code",
   "execution_count": 113,
   "metadata": {
    "ExecuteTime": {
     "end_time": "2021-03-26T18:17:26.303530Z",
     "start_time": "2021-03-26T18:17:26.290523Z"
    }
   },
   "outputs": [
    {
     "data": {
      "text/plain": [
       "(array([[-0.18413697,  2.57200282,  0.80361528],\n",
       "        [-0.19481438, -0.42169215, -0.52269196],\n",
       "        [-0.08124836,  2.57200282,  0.80361528],\n",
       "        ...,\n",
       "        [-0.08367177, -0.42169215, -0.52269196],\n",
       "        [-0.14999958, -0.42169215,  2.12992252],\n",
       "        [-0.19879068, -0.42169215,  0.14046166]]),\n",
       " 159994    0\n",
       " 156546    0\n",
       " 32875     1\n",
       " 201028    0\n",
       " 123124    0\n",
       "          ..\n",
       " 64659     1\n",
       " 145598    0\n",
       " 32091     0\n",
       " 154306    0\n",
       " 144704    0\n",
       " Name: is_churn_dummy, Length: 162010, dtype: uint8)"
      ]
     },
     "execution_count": 113,
     "metadata": {},
     "output_type": "execute_result"
    }
   ],
   "source": [
    "X_train, y_train"
   ]
  },
  {
   "cell_type": "markdown",
   "metadata": {},
   "source": [
    "Now we are going to split even further the X_test and y_test:"
   ]
  },
  {
   "cell_type": "code",
   "execution_count": 114,
   "metadata": {
    "ExecuteTime": {
     "end_time": "2021-03-26T18:17:27.303772Z",
     "start_time": "2021-03-26T18:17:27.296771Z"
    }
   },
   "outputs": [],
   "source": [
    "X_valid, X_test, y_valid, y_test = train_test_split(X_test, y_test, random_state=0, test_size=0.2)"
   ]
  },
  {
   "cell_type": "markdown",
   "metadata": {},
   "source": [
    "### Fitting the model"
   ]
  },
  {
   "cell_type": "code",
   "execution_count": 115,
   "metadata": {
    "ExecuteTime": {
     "end_time": "2021-03-26T18:17:29.875146Z",
     "start_time": "2021-03-26T18:17:29.865132Z"
    }
   },
   "outputs": [],
   "source": [
    "#importances = pd.DataFrame(zip(model.coef_[0], X_train.columns), columns=['coefs','feature']).sort_values(by='coefs')\n",
    "#importances"
   ]
  },
  {
   "cell_type": "code",
   "execution_count": 116,
   "metadata": {
    "ExecuteTime": {
     "end_time": "2021-03-26T18:17:30.256165Z",
     "start_time": "2021-03-26T18:17:30.249170Z"
    }
   },
   "outputs": [],
   "source": [
    "logistic_model = LogisticRegression(solver='liblinear', C=1.0, random_state=0) #instantiate it"
   ]
  },
  {
   "cell_type": "code",
   "execution_count": 117,
   "metadata": {
    "ExecuteTime": {
     "end_time": "2021-03-26T18:17:32.372980Z",
     "start_time": "2021-03-26T18:17:32.160980Z"
    }
   },
   "outputs": [
    {
     "data": {
      "text/plain": [
       "LogisticRegression(random_state=0, solver='liblinear')"
      ]
     },
     "execution_count": 117,
     "metadata": {},
     "output_type": "execute_result"
    }
   ],
   "source": [
    "logistic_model.fit(X=X_train, y=y_train) #fitting the model with data"
   ]
  },
  {
   "cell_type": "code",
   "execution_count": 118,
   "metadata": {
    "ExecuteTime": {
     "end_time": "2021-03-26T18:17:32.987253Z",
     "start_time": "2021-03-26T18:17:32.953716Z"
    }
   },
   "outputs": [],
   "source": [
    "predictions = logistic_model.predict(X_train)"
   ]
  },
  {
   "cell_type": "code",
   "execution_count": 119,
   "metadata": {
    "ExecuteTime": {
     "end_time": "2021-03-26T18:17:33.572200Z",
     "start_time": "2021-03-26T18:17:33.561206Z"
    }
   },
   "outputs": [
    {
     "data": {
      "text/plain": [
       "array([1, 0, 1, ..., 0, 0, 0], dtype=uint8)"
      ]
     },
     "execution_count": 119,
     "metadata": {},
     "output_type": "execute_result"
    }
   ],
   "source": [
    "predictions"
   ]
  },
  {
   "cell_type": "code",
   "execution_count": 120,
   "metadata": {
    "ExecuteTime": {
     "end_time": "2021-03-26T18:17:34.484152Z",
     "start_time": "2021-03-26T18:17:34.465131Z"
    }
   },
   "outputs": [
    {
     "data": {
      "text/plain": [
       "25491"
      ]
     },
     "execution_count": 120,
     "metadata": {},
     "output_type": "execute_result"
    }
   ],
   "source": [
    "np.count_nonzero(predictions == 1)"
   ]
  },
  {
   "cell_type": "code",
   "execution_count": 121,
   "metadata": {
    "ExecuteTime": {
     "end_time": "2021-03-26T18:17:35.039143Z",
     "start_time": "2021-03-26T18:17:35.025129Z"
    }
   },
   "outputs": [
    {
     "data": {
      "text/plain": [
       "136519"
      ]
     },
     "execution_count": 121,
     "metadata": {},
     "output_type": "execute_result"
    }
   ],
   "source": [
    "np.count_nonzero(predictions == 0)"
   ]
  },
  {
   "cell_type": "code",
   "execution_count": 122,
   "metadata": {
    "ExecuteTime": {
     "end_time": "2021-03-26T18:17:35.667923Z",
     "start_time": "2021-03-26T18:17:35.656912Z"
    }
   },
   "outputs": [
    {
     "data": {
      "text/plain": [
       "array([0, 0, 1, ..., 0, 0, 0], dtype=uint8)"
      ]
     },
     "execution_count": 122,
     "metadata": {},
     "output_type": "execute_result"
    }
   ],
   "source": [
    "np.array(y_train)"
   ]
  },
  {
   "cell_type": "markdown",
   "metadata": {},
   "source": [
    "### Evaluation\n",
    "Since our dataset is heavily unbalanced, we can't use the usual score method (which gives us accuracy).\n",
    "\n",
    "This method will result in the proportion between Yes and No itself and will be of no use."
   ]
  },
  {
   "cell_type": "code",
   "execution_count": 123,
   "metadata": {
    "ExecuteTime": {
     "end_time": "2021-03-26T18:17:37.749325Z",
     "start_time": "2021-03-26T18:17:37.721310Z"
    }
   },
   "outputs": [
    {
     "data": {
      "text/plain": [
       "0.9212147398308747"
      ]
     },
     "execution_count": 123,
     "metadata": {},
     "output_type": "execute_result"
    }
   ],
   "source": [
    "logistic_model.score(X_train, y_train)"
   ]
  },
  {
   "cell_type": "markdown",
   "metadata": {},
   "source": [
    "We should focus our evaluation on either Precision, Recall or F-1 Score, depending on what we are after.\n",
    "\n",
    "For our business case, both false positives and false negatives are equally uninteresting. Thus F1-score will be our evaluation metric."
   ]
  },
  {
   "cell_type": "code",
   "execution_count": 124,
   "metadata": {
    "ExecuteTime": {
     "end_time": "2021-03-26T18:17:39.253918Z",
     "start_time": "2021-03-26T18:17:39.233901Z"
    }
   },
   "outputs": [
    {
     "data": {
      "text/plain": [
       "0.8790148741531941"
      ]
     },
     "execution_count": 124,
     "metadata": {},
     "output_type": "execute_result"
    }
   ],
   "source": [
    "score = roc_auc_score(y_valid, logistic_model.predict_proba(X_valid)[:, 1])\n",
    "score"
   ]
  },
  {
   "cell_type": "code",
   "execution_count": 125,
   "metadata": {
    "ExecuteTime": {
     "end_time": "2021-03-26T18:17:40.306598Z",
     "start_time": "2021-03-26T18:17:40.034149Z"
    }
   },
   "outputs": [
    {
     "data": {
      "text/plain": [
       "<sklearn.metrics._plot.roc_curve.RocCurveDisplay at 0x219bfd41a60>"
      ]
     },
     "execution_count": 125,
     "metadata": {},
     "output_type": "execute_result"
    },
    {
     "data": {
      "image/png": "[encoded data removed]",
      "text/plain": [
       "<Figure size 432x288 with 1 Axes>"
      ]
     },
     "metadata": {},
     "output_type": "display_data"
    }
   ],
   "source": [
    "fig, ax = plt.subplots()\n",
    "\n",
    "plot_roc_curve(logistic_model, X_valid, y_valid, color='red', ax=ax, name='valid')\n",
    "plot_roc_curve(logistic_model, X_train, y_train, color='blue', ax=ax, name='train')"
   ]
  },
  {
   "cell_type": "markdown",
   "metadata": {},
   "source": [
    "#### Recall, Precision and F1-Score\n",
    "Showing the precision, recall and f1 score for our logistic model:"
   ]
  },
  {
   "cell_type": "code",
   "execution_count": 126,
   "metadata": {
    "ExecuteTime": {
     "end_time": "2021-03-26T18:17:42.607503Z",
     "start_time": "2021-03-26T18:17:42.345504Z"
    }
   },
   "outputs": [
    {
     "data": {
      "image/png": "[encoded data removed]",
      "text/plain": [
       "<Figure size 576x576 with 1 Axes>"
      ]
     },
     "metadata": {},
     "output_type": "display_data"
    }
   ],
   "source": [
    "cm = confusion_matrix(y_train, logistic_model.predict(X_train))\n",
    "\n",
    "fig, ax = plt.subplots(figsize=(8, 8))\n",
    "ax.imshow(cm)\n",
    "ax.grid(False)\n",
    "ax.xaxis.set(ticks=(0, 1), ticklabels=('Predicted 0s', 'Predicted 1s'))\n",
    "ax.yaxis.set(ticks=(0, 1), ticklabels=('Actual 0s', 'Actual 1s'))\n",
    "ax.set_ylim(1.5, -0.5)\n",
    "for i in range(2):\n",
    "    for j in range(2):\n",
    "        ax.text(j, i, cm[i, j], ha='center', va='center', color='red')\n",
    "plt.show()"
   ]
  },
  {
   "cell_type": "code",
   "execution_count": 127,
   "metadata": {
    "ExecuteTime": {
     "end_time": "2021-03-26T18:17:46.159698Z",
     "start_time": "2021-03-26T18:17:46.129685Z"
    }
   },
   "outputs": [
    {
     "name": "stdout",
     "output_type": "stream",
     "text": [
      "              precision    recall  f1-score   support\n",
      "\n",
      "           0       0.93      0.97      0.95      6604\n",
      "           1       0.85      0.69      0.76      1497\n",
      "\n",
      "    accuracy                           0.92      8101\n",
      "   macro avg       0.89      0.83      0.86      8101\n",
      "weighted avg       0.92      0.92      0.92      8101\n",
      "\n"
     ]
    }
   ],
   "source": [
    "print(classification_report(y_test, logistic_model.predict(X_test)))"
   ]
  },
  {
   "cell_type": "markdown",
   "metadata": {},
   "source": [
    "So our model is clearly predicting badly, our RECALL is really low for positives and consequently our F1."
   ]
  },
  {
   "cell_type": "markdown",
   "metadata": {},
   "source": [
    "The intercept and coefficients are normalized, so we can't get much of it right now but here they are.\n",
    "\n",
    "We can, however, conclude that the second coefficient has a strong importance: *group_code*"
   ]
  },
  {
   "cell_type": "code",
   "execution_count": 133,
   "metadata": {
    "ExecuteTime": {
     "end_time": "2021-03-26T18:18:44.672190Z",
     "start_time": "2021-03-26T18:18:44.657192Z"
    }
   },
   "outputs": [
    {
     "name": "stdout",
     "output_type": "stream",
     "text": [
      "The intercept is [-1.92712678]\n",
      "The coefficient is [[1.2940016  1.45895486 0.33467394]]\n"
     ]
    }
   ],
   "source": [
    "print(f'The intercept is {logistic_model.intercept_}')\n",
    "print(f'The coefficient is {logistic_model.coef_}')"
   ]
  },
  {
   "cell_type": "markdown",
   "metadata": {},
   "source": [
    "The decision regions can be graphed:"
   ]
  },
  {
   "cell_type": "code",
   "execution_count": 135,
   "metadata": {
    "ExecuteTime": {
     "end_time": "2021-03-26T18:20:23.912259Z",
     "start_time": "2021-03-26T18:20:23.905275Z"
    }
   },
   "outputs": [],
   "source": [
    "#plot_decision_regions(np.array(X_train), \n",
    "#                      np.array(y_train),\n",
    "#                      logistic_model,\n",
    "#                      scatter_kwargs={'alpha':0.2})"
   ]
  },
  {
   "cell_type": "code",
   "execution_count": 138,
   "metadata": {
    "ExecuteTime": {
     "end_time": "2021-03-26T18:20:32.533820Z",
     "start_time": "2021-03-26T18:20:32.508827Z"
    }
   },
   "outputs": [
    {
     "data": {
      "text/plain": [
       "array([[0.13517174, 0.86482826],\n",
       "       [0.9511714 , 0.0488286 ],\n",
       "       [0.1203497 , 0.8796503 ],\n",
       "       ...,\n",
       "       [0.94404148, 0.05595852],\n",
       "       [0.8832555 , 0.1167445 ],\n",
       "       [0.94005907, 0.05994093]])"
      ]
     },
     "execution_count": 138,
     "metadata": {},
     "output_type": "execute_result"
    }
   ],
   "source": [
    "logistic_model.predict_proba(X_train)"
   ]
  },
  {
   "cell_type": "code",
   "execution_count": 139,
   "metadata": {
    "ExecuteTime": {
     "end_time": "2021-03-26T18:20:33.993881Z",
     "start_time": "2021-03-26T18:20:33.975897Z"
    }
   },
   "outputs": [
    {
     "data": {
      "text/plain": [
       "array([1, 0, 1, ..., 0, 0, 0], dtype=uint8)"
      ]
     },
     "execution_count": 139,
     "metadata": {},
     "output_type": "execute_result"
    }
   ],
   "source": [
    "logistic_model.predict(X_train)"
   ]
  },
  {
   "cell_type": "code",
   "execution_count": null,
   "metadata": {},
   "outputs": [],
   "source": []
  },
  {
   "cell_type": "code",
   "execution_count": null,
   "metadata": {},
   "outputs": [],
   "source": []
  }
 ],
 "metadata": {
  "kernelspec": {
   "display_name": "Python 3",
   "language": "python",
   "name": "python3"
  },
  "language_info": {
   "codemirror_mode": {
    "name": "ipython",
    "version": 3
   },
   "file_extension": ".py",
   "mimetype": "text/x-python",
   "name": "python",
   "nbconvert_exporter": "python",
   "pygments_lexer": "ipython3",
   "version": "3.9.0"
  },
  "toc": {
   "base_numbering": 1,
   "nav_menu": {},
   "number_sections": true,
   "sideBar": true,
   "skip_h1_title": false,
   "title_cell": "Table of Contents",
   "title_sidebar": "Contents",
   "toc_cell": false,
   "toc_position": {
    "height": "calc(100% - 180px)",
    "left": "10px",
    "top": "150px",
    "width": "273.467px"
   },
   "toc_section_display": true,
   "toc_window_display": true
  },
  "varInspector": {
   "cols": {
    "lenName": 16,
    "lenType": 16,
    "lenVar": 40
   },
   "kernels_config": {
    "python": {
     "delete_cmd_postfix": "",
     "delete_cmd_prefix": "del ",
     "library": "var_list.py",
     "varRefreshCmd": "print(var_dic_list())"
    },
    "r": {
     "delete_cmd_postfix": ") ",
     "delete_cmd_prefix": "rm(",
     "library": "var_list.r",
     "varRefreshCmd": "cat(var_dic_list()) "
    }
   },
   "types_to_exclude": [
    "module",
    "function",
    "builtin_function_or_method",
    "instance",
    "_Feature"
   ],
   "window_display": false
  }
 },
 "nbformat": 4,
 "nbformat_minor": 4
}
